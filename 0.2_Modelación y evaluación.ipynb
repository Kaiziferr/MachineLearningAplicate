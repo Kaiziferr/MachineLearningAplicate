{
 "cells": [
  {
   "cell_type": "code",
   "execution_count": 237,
   "metadata": {},
   "outputs": [],
   "source": [
    "import pandas as pd\n",
    "import numpy as np\n",
    "import seaborn as sb\n",
    "import matplotlib.pyplot as plt\n",
    "from sklearn.model_selection import train_test_split\n",
    "from sklearn.linear_model import Lasso"
   ]
  },
  {
   "cell_type": "markdown",
   "metadata": {},
   "source": [
    "# Modelación y evaluación"
   ]
  },
  {
   "cell_type": "code",
   "execution_count": 238,
   "metadata": {
    "scrolled": true
   },
   "outputs": [
    {
     "data": {
      "text/html": [
       "<div>\n",
       "<style scoped>\n",
       "    .dataframe tbody tr th:only-of-type {\n",
       "        vertical-align: middle;\n",
       "    }\n",
       "\n",
       "    .dataframe tbody tr th {\n",
       "        vertical-align: top;\n",
       "    }\n",
       "\n",
       "    .dataframe thead th {\n",
       "        text-align: right;\n",
       "    }\n",
       "</style>\n",
       "<table border=\"1\" class=\"dataframe\">\n",
       "  <thead>\n",
       "    <tr style=\"text-align: right;\">\n",
       "      <th></th>\n",
       "      <th>production_budget</th>\n",
       "      <th>worldwide_gross</th>\n",
       "      <th>title_year</th>\n",
       "      <th>aspect_ratio</th>\n",
       "      <th>duration</th>\n",
       "      <th>cast_total_facebook_likes</th>\n",
       "      <th>budget</th>\n",
       "      <th>imdb_score</th>\n",
       "      <th>gross</th>\n",
       "    </tr>\n",
       "  </thead>\n",
       "  <tbody>\n",
       "    <tr>\n",
       "      <th>0</th>\n",
       "      <td>425000000.0</td>\n",
       "      <td>2.783919e+09</td>\n",
       "      <td>2009.000000</td>\n",
       "      <td>1.780000</td>\n",
       "      <td>178.000000</td>\n",
       "      <td>4834.0</td>\n",
       "      <td>2.370000e+08</td>\n",
       "      <td>7.9</td>\n",
       "      <td>7.605058e+08</td>\n",
       "    </tr>\n",
       "    <tr>\n",
       "      <th>1</th>\n",
       "      <td>306000000.0</td>\n",
       "      <td>2.058662e+09</td>\n",
       "      <td>2002.102628</td>\n",
       "      <td>2.126683</td>\n",
       "      <td>108.552703</td>\n",
       "      <td>143.0</td>\n",
       "      <td>3.712339e+07</td>\n",
       "      <td>7.1</td>\n",
       "      <td>4.819001e+07</td>\n",
       "    </tr>\n",
       "    <tr>\n",
       "      <th>2</th>\n",
       "      <td>300000000.0</td>\n",
       "      <td>9.634204e+08</td>\n",
       "      <td>2007.000000</td>\n",
       "      <td>2.350000</td>\n",
       "      <td>169.000000</td>\n",
       "      <td>48350.0</td>\n",
       "      <td>3.000000e+08</td>\n",
       "      <td>7.1</td>\n",
       "      <td>3.094042e+08</td>\n",
       "    </tr>\n",
       "    <tr>\n",
       "      <th>3</th>\n",
       "      <td>300000000.0</td>\n",
       "      <td>8.796209e+08</td>\n",
       "      <td>2015.000000</td>\n",
       "      <td>2.350000</td>\n",
       "      <td>148.000000</td>\n",
       "      <td>11700.0</td>\n",
       "      <td>2.450000e+08</td>\n",
       "      <td>6.8</td>\n",
       "      <td>2.000742e+08</td>\n",
       "    </tr>\n",
       "    <tr>\n",
       "      <th>4</th>\n",
       "      <td>275000000.0</td>\n",
       "      <td>1.084439e+09</td>\n",
       "      <td>2012.000000</td>\n",
       "      <td>2.350000</td>\n",
       "      <td>164.000000</td>\n",
       "      <td>106759.0</td>\n",
       "      <td>2.500000e+08</td>\n",
       "      <td>8.5</td>\n",
       "      <td>4.481306e+08</td>\n",
       "    </tr>\n",
       "  </tbody>\n",
       "</table>\n",
       "</div>"
      ],
      "text/plain": [
       "   production_budget  worldwide_gross   title_year  aspect_ratio    duration  \\\n",
       "0        425000000.0     2.783919e+09  2009.000000      1.780000  178.000000   \n",
       "1        306000000.0     2.058662e+09  2002.102628      2.126683  108.552703   \n",
       "2        300000000.0     9.634204e+08  2007.000000      2.350000  169.000000   \n",
       "3        300000000.0     8.796209e+08  2015.000000      2.350000  148.000000   \n",
       "4        275000000.0     1.084439e+09  2012.000000      2.350000  164.000000   \n",
       "\n",
       "   cast_total_facebook_likes        budget  imdb_score         gross  \n",
       "0                     4834.0  2.370000e+08         7.9  7.605058e+08  \n",
       "1                      143.0  3.712339e+07         7.1  4.819001e+07  \n",
       "2                    48350.0  3.000000e+08         7.1  3.094042e+08  \n",
       "3                    11700.0  2.450000e+08         6.8  2.000742e+08  \n",
       "4                   106759.0  2.500000e+08         8.5  4.481306e+08  "
      ]
     },
     "execution_count": 238,
     "metadata": {},
     "output_type": "execute_result"
    }
   ],
   "source": [
    "#Leemos nuestros datos de entrenamiento\n",
    "x = pd.read_csv('dataEntreno.csv')\n",
    "x.head()"
   ]
  },
  {
   "cell_type": "code",
   "execution_count": 239,
   "metadata": {},
   "outputs": [
    {
     "data": {
      "text/plain": [
       "count    4.061000e+03\n",
       "mean     9.545619e+07\n",
       "std      1.730473e+08\n",
       "min      4.500000e+02\n",
       "25%      7.445044e+06\n",
       "50%      3.346201e+07\n",
       "75%      1.045054e+08\n",
       "max      2.783919e+09\n",
       "Name: worldwide_gross, dtype: float64"
      ]
     },
     "execution_count": 239,
     "metadata": {},
     "output_type": "execute_result"
    }
   ],
   "source": [
    "#Seleccionamos nuestra variable objetivo\n",
    "y = x['worldwide_gross']\n",
    "y.describe()"
   ]
  },
  {
   "cell_type": "code",
   "execution_count": 240,
   "metadata": {},
   "outputs": [
    {
     "data": {
      "text/html": [
       "<div>\n",
       "<style scoped>\n",
       "    .dataframe tbody tr th:only-of-type {\n",
       "        vertical-align: middle;\n",
       "    }\n",
       "\n",
       "    .dataframe tbody tr th {\n",
       "        vertical-align: top;\n",
       "    }\n",
       "\n",
       "    .dataframe thead th {\n",
       "        text-align: right;\n",
       "    }\n",
       "</style>\n",
       "<table border=\"1\" class=\"dataframe\">\n",
       "  <thead>\n",
       "    <tr style=\"text-align: right;\">\n",
       "      <th></th>\n",
       "      <th>production_budget</th>\n",
       "      <th>title_year</th>\n",
       "      <th>aspect_ratio</th>\n",
       "      <th>duration</th>\n",
       "      <th>cast_total_facebook_likes</th>\n",
       "      <th>budget</th>\n",
       "      <th>imdb_score</th>\n",
       "      <th>gross</th>\n",
       "    </tr>\n",
       "  </thead>\n",
       "  <tbody>\n",
       "    <tr>\n",
       "      <th>count</th>\n",
       "      <td>4.061000e+03</td>\n",
       "      <td>4061.000000</td>\n",
       "      <td>4061.000000</td>\n",
       "      <td>4061.000000</td>\n",
       "      <td>4061.000000</td>\n",
       "      <td>4.061000e+03</td>\n",
       "      <td>4061.000000</td>\n",
       "      <td>4.061000e+03</td>\n",
       "    </tr>\n",
       "    <tr>\n",
       "      <th>mean</th>\n",
       "      <td>3.322837e+07</td>\n",
       "      <td>2002.102628</td>\n",
       "      <td>2.126683</td>\n",
       "      <td>108.552703</td>\n",
       "      <td>10307.988919</td>\n",
       "      <td>3.712339e+07</td>\n",
       "      <td>6.456513</td>\n",
       "      <td>4.819001e+07</td>\n",
       "    </tr>\n",
       "    <tr>\n",
       "      <th>std</th>\n",
       "      <td>4.088155e+07</td>\n",
       "      <td>12.036966</td>\n",
       "      <td>0.744570</td>\n",
       "      <td>23.091377</td>\n",
       "      <td>18821.488171</td>\n",
       "      <td>6.952630e+07</td>\n",
       "      <td>1.071517</td>\n",
       "      <td>6.398627e+07</td>\n",
       "    </tr>\n",
       "    <tr>\n",
       "      <th>min</th>\n",
       "      <td>1.100000e+03</td>\n",
       "      <td>1920.000000</td>\n",
       "      <td>1.180000</td>\n",
       "      <td>7.000000</td>\n",
       "      <td>0.000000</td>\n",
       "      <td>2.180000e+02</td>\n",
       "      <td>1.600000</td>\n",
       "      <td>1.620000e+02</td>\n",
       "    </tr>\n",
       "    <tr>\n",
       "      <th>25%</th>\n",
       "      <td>7.000000e+06</td>\n",
       "      <td>1999.000000</td>\n",
       "      <td>1.850000</td>\n",
       "      <td>94.000000</td>\n",
       "      <td>1591.000000</td>\n",
       "      <td>8.500000e+06</td>\n",
       "      <td>5.800000</td>\n",
       "      <td>7.017178e+06</td>\n",
       "    </tr>\n",
       "    <tr>\n",
       "      <th>50%</th>\n",
       "      <td>2.000000e+07</td>\n",
       "      <td>2005.000000</td>\n",
       "      <td>2.126683</td>\n",
       "      <td>104.000000</td>\n",
       "      <td>3341.000000</td>\n",
       "      <td>2.500000e+07</td>\n",
       "      <td>6.600000</td>\n",
       "      <td>3.174333e+07</td>\n",
       "    </tr>\n",
       "    <tr>\n",
       "      <th>75%</th>\n",
       "      <td>4.300000e+07</td>\n",
       "      <td>2010.000000</td>\n",
       "      <td>2.350000</td>\n",
       "      <td>119.000000</td>\n",
       "      <td>14619.000000</td>\n",
       "      <td>4.200000e+07</td>\n",
       "      <td>7.200000</td>\n",
       "      <td>5.643795e+07</td>\n",
       "    </tr>\n",
       "    <tr>\n",
       "      <th>max</th>\n",
       "      <td>4.250000e+08</td>\n",
       "      <td>2016.000000</td>\n",
       "      <td>16.000000</td>\n",
       "      <td>325.000000</td>\n",
       "      <td>656730.000000</td>\n",
       "      <td>2.500000e+09</td>\n",
       "      <td>9.500000</td>\n",
       "      <td>7.605058e+08</td>\n",
       "    </tr>\n",
       "  </tbody>\n",
       "</table>\n",
       "</div>"
      ],
      "text/plain": [
       "       production_budget   title_year  aspect_ratio     duration  \\\n",
       "count       4.061000e+03  4061.000000   4061.000000  4061.000000   \n",
       "mean        3.322837e+07  2002.102628      2.126683   108.552703   \n",
       "std         4.088155e+07    12.036966      0.744570    23.091377   \n",
       "min         1.100000e+03  1920.000000      1.180000     7.000000   \n",
       "25%         7.000000e+06  1999.000000      1.850000    94.000000   \n",
       "50%         2.000000e+07  2005.000000      2.126683   104.000000   \n",
       "75%         4.300000e+07  2010.000000      2.350000   119.000000   \n",
       "max         4.250000e+08  2016.000000     16.000000   325.000000   \n",
       "\n",
       "       cast_total_facebook_likes        budget   imdb_score         gross  \n",
       "count                4061.000000  4.061000e+03  4061.000000  4.061000e+03  \n",
       "mean                10307.988919  3.712339e+07     6.456513  4.819001e+07  \n",
       "std                 18821.488171  6.952630e+07     1.071517  6.398627e+07  \n",
       "min                     0.000000  2.180000e+02     1.600000  1.620000e+02  \n",
       "25%                  1591.000000  8.500000e+06     5.800000  7.017178e+06  \n",
       "50%                  3341.000000  2.500000e+07     6.600000  3.174333e+07  \n",
       "75%                 14619.000000  4.200000e+07     7.200000  5.643795e+07  \n",
       "max                656730.000000  2.500000e+09     9.500000  7.605058e+08  "
      ]
     },
     "execution_count": 240,
     "metadata": {},
     "output_type": "execute_result"
    }
   ],
   "source": [
    "x.drop('worldwide_gross', axis= 1, inplace=True)\n",
    "x.describe()"
   ]
  },
  {
   "cell_type": "markdown",
   "metadata": {},
   "source": [
    "## Modelo simple de regresión (lasso)"
   ]
  },
  {
   "cell_type": "code",
   "execution_count": 241,
   "metadata": {},
   "outputs": [],
   "source": [
    "#Definimos nuestras variables de entrenamiento y de pruebas\n",
    "X_train, X_test, y_train, y_test = train_test_split(x,y,test_size=0.4)"
   ]
  },
  {
   "cell_type": "code",
   "execution_count": 242,
   "metadata": {},
   "outputs": [
    {
     "name": "stdout",
     "output_type": "stream",
     "text": [
      "El tamño del dataset es de 4061\n",
      "El porcentaje del set de entrenamiento es de 0.5998522531396208\n",
      "El porcentaje del set de prueba es de 0.40014774686037924\n"
     ]
    }
   ],
   "source": [
    "#Miremos algunos datos\n",
    "print('El tamño del dataset es de {}'.format(len(x)))\n",
    "print('El porcentaje del set de entrenamiento es de {}'.format(len(X_train)/len(x)))\n",
    "print('El porcentaje del set de prueba es de {}'.format(len(X_test)/len(x)))"
   ]
  },
  {
   "cell_type": "code",
   "execution_count": 243,
   "metadata": {},
   "outputs": [],
   "source": [
    "# Instanciamos nuestro estimador\n",
    "model = Lasso()"
   ]
  },
  {
   "cell_type": "code",
   "execution_count": 244,
   "metadata": {},
   "outputs": [
    {
     "name": "stderr",
     "output_type": "stream",
     "text": [
      "C:\\Users\\S T E V E N\\AppData\\Roaming\\Python\\Python37\\site-packages\\sklearn\\linear_model\\_coordinate_descent.py:476: ConvergenceWarning: Objective did not converge. You might want to increase the number of iterations. Duality gap: 1.4881880063297065e+18, tolerance: 7460842042329875.0\n",
      "  positive)\n"
     ]
    },
    {
     "data": {
      "text/plain": [
       "Lasso(alpha=1.0, copy_X=True, fit_intercept=True, max_iter=1000,\n",
       "      normalize=False, positive=False, precompute=False, random_state=None,\n",
       "      selection='cyclic', tol=0.0001, warm_start=False)"
      ]
     },
     "execution_count": 244,
     "metadata": {},
     "output_type": "execute_result"
    }
   ],
   "source": [
    "#Iniciamos el entreno de nuestro modelo\n",
    "model.fit(X_train, y_train)"
   ]
  },
  {
   "cell_type": "code",
   "execution_count": 245,
   "metadata": {},
   "outputs": [
    {
     "data": {
      "text/plain": [
       "array([ 1.15762336e+08,  1.17628156e+08, -6.96557839e+06, ...,\n",
       "        2.70972631e+07,  2.69326274e+08,  3.06702380e+08])"
      ]
     },
     "execution_count": 245,
     "metadata": {},
     "output_type": "execute_result"
    }
   ],
   "source": [
    "#Predecimos con nuestros datos de prueba\n",
    "predicted = model.predict(X_test)\n",
    "predicted"
   ]
  },
  {
   "cell_type": "code",
   "execution_count": 246,
   "metadata": {},
   "outputs": [],
   "source": [
    "# Graficar en Jupyter\n",
    "%matplotlib inline"
   ]
  },
  {
   "cell_type": "code",
   "execution_count": 247,
   "metadata": {},
   "outputs": [
    {
     "data": {
      "image/png": "[encoded data removed]",
      "text/plain": [
       "<Figure size 432x288 with 1 Axes>"
      ]
     },
     "metadata": {
      "needs_background": "light"
     },
     "output_type": "display_data"
    }
   ],
   "source": [
    "plt.hist([predicted,y_test]);"
   ]
  },
  {
   "cell_type": "markdown",
   "metadata": {},
   "source": [
    "#### Evaluación del comportamiento de nuestro modelo"
   ]
  },
  {
   "cell_type": "code",
   "execution_count": 248,
   "metadata": {},
   "outputs": [
    {
     "data": {
      "text/plain": [
       "0.8651410960184212"
      ]
     },
     "execution_count": 248,
     "metadata": {},
     "output_type": "execute_result"
    }
   ],
   "source": [
    "#Miramos el score\n",
    "model.score(X_test,y_test)"
   ]
  },
  {
   "cell_type": "markdown",
   "metadata": {},
   "source": [
    "Un buen score R2 es importante para una regresión. Pero no lo es todo. De forma general los scores hay que complementarlos con visualizaciones de los datos ya que una métrica no logra siempre encodear todas las caracteristicas de una distribución de probabilidades."
   ]
  },
  {
   "cell_type": "code",
   "execution_count": 249,
   "metadata": {},
   "outputs": [
    {
     "data": {
      "text/plain": [
       "1092   -9.322252e+05\n",
       "1097    2.867220e+07\n",
       "2590    1.567228e+07\n",
       "3276    1.615613e+07\n",
       "684    -5.990776e+07\n",
       "Name: worldwide_gross, dtype: float64"
      ]
     },
     "execution_count": 249,
     "metadata": {},
     "output_type": "execute_result"
    }
   ],
   "source": [
    "#Miramos los residuos\n",
    "residuals = y_test - predicted\n",
    "residuals.head()"
   ]
  },
  {
   "cell_type": "code",
   "execution_count": 250,
   "metadata": {},
   "outputs": [
    {
     "name": "stdout",
     "output_type": "stream",
     "text": [
      "(1625,) (1625,) (1625,)\n"
     ]
    }
   ],
   "source": [
    "print(residuals.shape,y_test.shape,predicted.shape)"
   ]
  },
  {
   "cell_type": "code",
   "execution_count": 251,
   "metadata": {},
   "outputs": [
    {
     "data": {
      "text/plain": [
       "False"
      ]
     },
     "execution_count": 251,
     "metadata": {},
     "output_type": "execute_result"
    }
   ],
   "source": [
    "np.array_equal(residuals,y_test)"
   ]
  },
  {
   "cell_type": "code",
   "execution_count": 252,
   "metadata": {},
   "outputs": [
    {
     "data": {
      "text/plain": [
       "False"
      ]
     },
     "execution_count": 252,
     "metadata": {},
     "output_type": "execute_result"
    }
   ],
   "source": [
    "np.array_equal(y_test,predicted)"
   ]
  },
  {
   "cell_type": "markdown",
   "metadata": {},
   "source": [
    "Si hay patrones aparentes, es malo"
   ]
  },
  {
   "cell_type": "code",
   "execution_count": 253,
   "metadata": {},
   "outputs": [
    {
     "data": {
      "text/plain": [
       "<matplotlib.collections.PathCollection at 0x181d6a42160>"
      ]
     },
     "execution_count": 253,
     "metadata": {},
     "output_type": "execute_result"
    },
    {
     "data": {
      "image/png": "[encoded data removed]",
      "text/plain": [
       "<Figure size 432x288 with 1 Axes>"
      ]
     },
     "metadata": {
      "needs_background": "light"
     },
     "output_type": "display_data"
    }
   ],
   "source": [
    "plt.scatter(y_test,residuals)"
   ]
  },
  {
   "cell_type": "code",
   "execution_count": 254,
   "metadata": {},
   "outputs": [],
   "source": [
    "# Errores en porcentaje ---> \"Normalizar\"\n",
    "ap_residuals = np.abs(residuals) / y_test"
   ]
  },
  {
   "cell_type": "code",
   "execution_count": 255,
   "metadata": {
    "scrolled": true
   },
   "outputs": [
    {
     "data": {
      "text/plain": [
       "<matplotlib.collections.PathCollection at 0x181d6dac0b8>"
      ]
     },
     "execution_count": 255,
     "metadata": {},
     "output_type": "execute_result"
    },
    {
     "data": {
      "image/png": "[encoded data removed]",
      "text/plain": [
       "<Figure size 432x288 with 1 Axes>"
      ]
     },
     "metadata": {
      "needs_background": "light"
     },
     "output_type": "display_data"
    }
   ],
   "source": [
    "plt.scatter(y_test,ap_residuals)"
   ]
  },
  {
   "cell_type": "code",
   "execution_count": 264,
   "metadata": {},
   "outputs": [],
   "source": [
    "#Como hay residuos muy alejados usare una escala logaritmica\n",
    "log_residuals =np.log(ap_residuals)"
   ]
  },
  {
   "cell_type": "code",
   "execution_count": 265,
   "metadata": {},
   "outputs": [
    {
     "data": {
      "text/plain": [
       "<matplotlib.collections.PathCollection at 0x181d83c3240>"
      ]
     },
     "execution_count": 265,
     "metadata": {},
     "output_type": "execute_result"
    },
    {
     "data": {
      "image/png": "[encoded data removed]",
      "text/plain": [
       "<Figure size 432x288 with 1 Axes>"
      ]
     },
     "metadata": {
      "needs_background": "light"
     },
     "output_type": "display_data"
    }
   ],
   "source": [
    "plt.scatter(y_test,log_residuals)"
   ]
  },
  {
   "cell_type": "code",
   "execution_count": 266,
   "metadata": {},
   "outputs": [
    {
     "data": {
      "text/plain": [
       "(array([6.15384615e-04, 6.15384615e-04, 6.15384615e-04, 6.15384615e-04,\n",
       "        6.15384615e-04, 6.15384615e-04, 6.15384615e-04, 6.15384615e-04,\n",
       "        6.15384615e-04, 1.23076923e-03, 1.84615385e-03, 2.46153846e-03,\n",
       "        3.07692308e-03, 3.69230769e-03, 3.69230769e-03, 4.30769231e-03,\n",
       "        5.53846154e-03, 5.53846154e-03, 6.76923077e-03, 8.00000000e-03,\n",
       "        1.04615385e-02, 1.16923077e-02, 1.35384615e-02, 1.66153846e-02,\n",
       "        2.40000000e-02, 2.83076923e-02, 3.32307692e-02, 4.36923077e-02,\n",
       "        5.41538462e-02, 7.20000000e-02, 8.86153846e-02, 1.06461538e-01,\n",
       "        1.26153846e-01, 1.51384615e-01, 1.79076923e-01, 2.20307692e-01,\n",
       "        2.73230769e-01, 3.21846154e-01, 3.68615385e-01, 4.31384615e-01,\n",
       "        4.90461538e-01, 5.44000000e-01, 5.87076923e-01, 6.24615385e-01,\n",
       "        6.61538462e-01, 6.84307692e-01, 7.16923077e-01, 7.34153846e-01,\n",
       "        7.62461538e-01, 7.80923077e-01, 7.94461538e-01, 8.05538462e-01,\n",
       "        8.17846154e-01, 8.32000000e-01, 8.43076923e-01, 8.52923077e-01,\n",
       "        8.60923077e-01, 8.71384615e-01, 8.78769231e-01, 8.87384615e-01,\n",
       "        8.93538462e-01, 9.00923077e-01, 9.07692308e-01, 9.13846154e-01,\n",
       "        9.19384615e-01, 9.26769231e-01, 9.32307692e-01, 9.39076923e-01,\n",
       "        9.43384615e-01, 9.48307692e-01, 9.51384615e-01, 9.52615385e-01,\n",
       "        9.56307692e-01, 9.60615385e-01, 9.61230769e-01, 9.64923077e-01,\n",
       "        9.69230769e-01, 9.71692308e-01, 9.74153846e-01, 9.76000000e-01,\n",
       "        9.77230769e-01, 9.81538462e-01, 9.83384615e-01, 9.84615385e-01,\n",
       "        9.87692308e-01, 9.89538462e-01, 9.90769231e-01, 9.93230769e-01,\n",
       "        9.94461538e-01, 9.95076923e-01, 9.95692308e-01, 9.95692308e-01,\n",
       "        9.96307692e-01, 9.96923077e-01, 9.96923077e-01, 9.98153846e-01,\n",
       "        9.98769231e-01, 9.99384615e-01, 9.99384615e-01, 1.00000000e+00]),\n",
       " array([-9.17525371, -8.9634347 , -8.75161569, -8.53979668, -8.32797768,\n",
       "        -8.11615867, -7.90433966, -7.69252065, -7.48070164, -7.26888263,\n",
       "        -7.05706362, -6.84524461, -6.6334256 , -6.42160659, -6.20978758,\n",
       "        -5.99796857, -5.78614956, -5.57433055, -5.36251155, -5.15069254,\n",
       "        -4.93887353, -4.72705452, -4.51523551, -4.3034165 , -4.09159749,\n",
       "        -3.87977848, -3.66795947, -3.45614046, -3.24432145, -3.03250244,\n",
       "        -2.82068343, -2.60886442, -2.39704542, -2.18522641, -1.9734074 ,\n",
       "        -1.76158839, -1.54976938, -1.33795037, -1.12613136, -0.91431235,\n",
       "        -0.70249334, -0.49067433, -0.27885532, -0.06703631,  0.1447827 ,\n",
       "         0.3566017 ,  0.56842071,  0.78023972,  0.99205873,  1.20387774,\n",
       "         1.41569675,  1.62751576,  1.83933477,  2.05115378,  2.26297279,\n",
       "         2.4747918 ,  2.68661081,  2.89842982,  3.11024883,  3.32206783,\n",
       "         3.53388684,  3.74570585,  3.95752486,  4.16934387,  4.38116288,\n",
       "         4.59298189,  4.8048009 ,  5.01661991,  5.22843892,  5.44025793,\n",
       "         5.65207694,  5.86389595,  6.07571496,  6.28753396,  6.49935297,\n",
       "         6.71117198,  6.92299099,  7.13481   ,  7.34662901,  7.55844802,\n",
       "         7.77026703,  7.98208604,  8.19390505,  8.40572406,  8.61754307,\n",
       "         8.82936208,  9.04118109,  9.25300009,  9.4648191 ,  9.67663811,\n",
       "         9.88845712, 10.10027613, 10.31209514, 10.52391415, 10.73573316,\n",
       "        10.94755217, 11.15937118, 11.37119019, 11.5830092 , 11.79482821,\n",
       "        12.00664722]),\n",
       " <a list of 1 Patch objects>)"
      ]
     },
     "execution_count": 266,
     "metadata": {},
     "output_type": "execute_result"
    },
    {
     "data": {
      "image/png": "[encoded data removed]",
      "text/plain": [
       "<Figure size 432x288 with 1 Axes>"
      ]
     },
     "metadata": {
      "needs_background": "light"
     },
     "output_type": "display_data"
    }
   ],
   "source": [
    "# Hacemos una evaluacion de errores Diagrama de escala acumulativa de distribucion de errores\n",
    "# haremos un histograma, normalizado\n",
    "plt.hist(log_residuals,bins=100,density=1,histtype='step', cumulative=True)\n",
    "# Un error menor al 100% del ingreso lo tengo para el 70% de los datos\n",
    "# un erro del 10% para 40% de los datos"
   ]
  },
  {
   "cell_type": "code",
   "execution_count": 268,
   "metadata": {},
   "outputs": [
    {
     "data": {
      "text/plain": [
       "array([0.13533528, 0.22313016, 0.36787944, 0.60653066, 1.        ])"
      ]
     },
     "execution_count": 268,
     "metadata": {},
     "output_type": "execute_result"
    },
    {
     "data": {
      "image/png": "[encoded data removed]",
      "text/plain": [
       "<Figure size 432x288 with 1 Axes>"
      ]
     },
     "metadata": {
      "needs_background": "light"
     },
     "output_type": "display_data"
    }
   ],
   "source": [
    "plt.hist(log_residuals, bins=100, density=1, histtype='step',cumulative=True);\n",
    "plt.axis([-2,0,0,1])\n",
    "np.power(np.exp(1)*np.ones(5),np.linspace(-2,0,5))\n",
    "#Un erro de 1% lo tengo para un 20% de los datos\n",
    "#Errores inferiores al 10% tengo un 40% de los datos"
   ]
  },
  {
   "cell_type": "code",
   "execution_count": 270,
   "metadata": {},
   "outputs": [
    {
     "data": {
      "text/html": [
       "<div>\n",
       "<style scoped>\n",
       "    .dataframe tbody tr th:only-of-type {\n",
       "        vertical-align: middle;\n",
       "    }\n",
       "\n",
       "    .dataframe tbody tr th {\n",
       "        vertical-align: top;\n",
       "    }\n",
       "\n",
       "    .dataframe thead th {\n",
       "        text-align: right;\n",
       "    }\n",
       "</style>\n",
       "<table border=\"1\" class=\"dataframe\">\n",
       "  <thead>\n",
       "    <tr style=\"text-align: right;\">\n",
       "      <th></th>\n",
       "      <th>production_budget</th>\n",
       "      <th>title_year</th>\n",
       "      <th>aspect_ratio</th>\n",
       "      <th>duration</th>\n",
       "      <th>cast_total_facebook_likes</th>\n",
       "      <th>budget</th>\n",
       "      <th>imdb_score</th>\n",
       "      <th>gross</th>\n",
       "    </tr>\n",
       "  </thead>\n",
       "  <tbody>\n",
       "    <tr>\n",
       "      <th>production_budget</th>\n",
       "      <td>1.000000</td>\n",
       "      <td>0.205812</td>\n",
       "      <td>0.076272</td>\n",
       "      <td>0.272109</td>\n",
       "      <td>0.233954</td>\n",
       "      <td>0.519611</td>\n",
       "      <td>0.033352</td>\n",
       "      <td>0.639750</td>\n",
       "    </tr>\n",
       "    <tr>\n",
       "      <th>title_year</th>\n",
       "      <td>0.205812</td>\n",
       "      <td>1.000000</td>\n",
       "      <td>0.130135</td>\n",
       "      <td>-0.140261</td>\n",
       "      <td>0.124159</td>\n",
       "      <td>0.125360</td>\n",
       "      <td>-0.177560</td>\n",
       "      <td>0.012704</td>\n",
       "    </tr>\n",
       "    <tr>\n",
       "      <th>aspect_ratio</th>\n",
       "      <td>0.076272</td>\n",
       "      <td>0.130135</td>\n",
       "      <td>1.000000</td>\n",
       "      <td>-0.013447</td>\n",
       "      <td>0.020563</td>\n",
       "      <td>0.046687</td>\n",
       "      <td>0.037795</td>\n",
       "      <td>0.029466</td>\n",
       "    </tr>\n",
       "    <tr>\n",
       "      <th>duration</th>\n",
       "      <td>0.272109</td>\n",
       "      <td>-0.140261</td>\n",
       "      <td>-0.013447</td>\n",
       "      <td>1.000000</td>\n",
       "      <td>0.120608</td>\n",
       "      <td>0.182824</td>\n",
       "      <td>0.317001</td>\n",
       "      <td>0.235836</td>\n",
       "    </tr>\n",
       "    <tr>\n",
       "      <th>cast_total_facebook_likes</th>\n",
       "      <td>0.233954</td>\n",
       "      <td>0.124159</td>\n",
       "      <td>0.020563</td>\n",
       "      <td>0.120608</td>\n",
       "      <td>1.000000</td>\n",
       "      <td>0.113938</td>\n",
       "      <td>0.097513</td>\n",
       "      <td>0.207323</td>\n",
       "    </tr>\n",
       "    <tr>\n",
       "      <th>budget</th>\n",
       "      <td>0.519611</td>\n",
       "      <td>0.125360</td>\n",
       "      <td>0.046687</td>\n",
       "      <td>0.182824</td>\n",
       "      <td>0.113938</td>\n",
       "      <td>1.000000</td>\n",
       "      <td>0.034820</td>\n",
       "      <td>0.326548</td>\n",
       "    </tr>\n",
       "    <tr>\n",
       "      <th>imdb_score</th>\n",
       "      <td>0.033352</td>\n",
       "      <td>-0.177560</td>\n",
       "      <td>0.037795</td>\n",
       "      <td>0.317001</td>\n",
       "      <td>0.097513</td>\n",
       "      <td>0.034820</td>\n",
       "      <td>1.000000</td>\n",
       "      <td>0.201647</td>\n",
       "    </tr>\n",
       "    <tr>\n",
       "      <th>gross</th>\n",
       "      <td>0.639750</td>\n",
       "      <td>0.012704</td>\n",
       "      <td>0.029466</td>\n",
       "      <td>0.235836</td>\n",
       "      <td>0.207323</td>\n",
       "      <td>0.326548</td>\n",
       "      <td>0.201647</td>\n",
       "      <td>1.000000</td>\n",
       "    </tr>\n",
       "  </tbody>\n",
       "</table>\n",
       "</div>"
      ],
      "text/plain": [
       "                           production_budget  title_year  aspect_ratio  \\\n",
       "production_budget                   1.000000    0.205812      0.076272   \n",
       "title_year                          0.205812    1.000000      0.130135   \n",
       "aspect_ratio                        0.076272    0.130135      1.000000   \n",
       "duration                            0.272109   -0.140261     -0.013447   \n",
       "cast_total_facebook_likes           0.233954    0.124159      0.020563   \n",
       "budget                              0.519611    0.125360      0.046687   \n",
       "imdb_score                          0.033352   -0.177560      0.037795   \n",
       "gross                               0.639750    0.012704      0.029466   \n",
       "\n",
       "                           duration  cast_total_facebook_likes    budget  \\\n",
       "production_budget          0.272109                   0.233954  0.519611   \n",
       "title_year                -0.140261                   0.124159  0.125360   \n",
       "aspect_ratio              -0.013447                   0.020563  0.046687   \n",
       "duration                   1.000000                   0.120608  0.182824   \n",
       "cast_total_facebook_likes  0.120608                   1.000000  0.113938   \n",
       "budget                     0.182824                   0.113938  1.000000   \n",
       "imdb_score                 0.317001                   0.097513  0.034820   \n",
       "gross                      0.235836                   0.207323  0.326548   \n",
       "\n",
       "                           imdb_score     gross  \n",
       "production_budget            0.033352  0.639750  \n",
       "title_year                  -0.177560  0.012704  \n",
       "aspect_ratio                 0.037795  0.029466  \n",
       "duration                     0.317001  0.235836  \n",
       "cast_total_facebook_likes    0.097513  0.207323  \n",
       "budget                       0.034820  0.326548  \n",
       "imdb_score                   1.000000  0.201647  \n",
       "gross                        0.201647  1.000000  "
      ]
     },
     "execution_count": 270,
     "metadata": {},
     "output_type": "execute_result"
    }
   ],
   "source": [
    "# Calcula la matriz de correlacion\n",
    "x.corr()"
   ]
  },
  {
   "cell_type": "code",
   "execution_count": 271,
   "metadata": {},
   "outputs": [
    {
     "data": {
      "text/plain": [
       "<matplotlib.axes._subplots.AxesSubplot at 0x181d9535160>"
      ]
     },
     "execution_count": 271,
     "metadata": {},
     "output_type": "execute_result"
    },
    {
     "data": {
      "image/png": "[encoded data removed]",
      "text/plain": [
       "<Figure size 432x288 with 2 Axes>"
      ]
     },
     "metadata": {
      "needs_background": "light"
     },
     "output_type": "display_data"
    }
   ],
   "source": [
    "sb.heatmap(x.corr())"
   ]
  },
  {
   "cell_type": "code",
   "execution_count": null,
   "metadata": {},
   "outputs": [],
   "source": []
  }
 ],
 "metadata": {
  "kernelspec": {
   "display_name": "Python 3",
   "language": "python",
   "name": "python3"
  },
  "language_info": {
   "codemirror_mode": {
    "name": "ipython",
    "version": 3
   },
   "file_extension": ".py",
   "mimetype": "text/x-python",
   "name": "python",
   "nbconvert_exporter": "python",
   "pygments_lexer": "ipython3",
   "version": "3.7.3"
  }
 },
 "nbformat": 4,
 "nbformat_minor": 2
}
