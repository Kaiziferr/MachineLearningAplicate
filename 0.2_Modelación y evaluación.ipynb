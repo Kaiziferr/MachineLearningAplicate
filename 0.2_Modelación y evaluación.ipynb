{
 "cells": [
  {
   "cell_type": "code",
   "execution_count": 1,
   "metadata": {},
   "outputs": [],
   "source": [
    "import pandas as pd\n",
    "import numpy as np\n",
    "import seaborn as sb\n",
    "import matplotlib.pyplot as plt\n",
    "from sklearn.model_selection import train_test_split\n",
    "from sklearn.linear_model import Lasso"
   ]
  },
  {
   "cell_type": "markdown",
   "metadata": {},
   "source": [
    "# Modelación y evaluación"
   ]
  },
  {
   "cell_type": "code",
   "execution_count": 2,
   "metadata": {
    "scrolled": true
   },
   "outputs": [
    {
     "data": {
      "text/html": [
       "<div>\n",
       "<style scoped>\n",
       "    .dataframe tbody tr th:only-of-type {\n",
       "        vertical-align: middle;\n",
       "    }\n",
       "\n",
       "    .dataframe tbody tr th {\n",
       "        vertical-align: top;\n",
       "    }\n",
       "\n",
       "    .dataframe thead th {\n",
       "        text-align: right;\n",
       "    }\n",
       "</style>\n",
       "<table border=\"1\" class=\"dataframe\">\n",
       "  <thead>\n",
       "    <tr style=\"text-align: right;\">\n",
       "      <th></th>\n",
       "      <th>production_budget</th>\n",
       "      <th>worldwide_gross</th>\n",
       "      <th>title_year</th>\n",
       "      <th>aspect_ratio</th>\n",
       "      <th>duration</th>\n",
       "      <th>cast_total_facebook_likes</th>\n",
       "      <th>budget</th>\n",
       "      <th>imdb_score</th>\n",
       "      <th>gross</th>\n",
       "    </tr>\n",
       "  </thead>\n",
       "  <tbody>\n",
       "    <tr>\n",
       "      <th>0</th>\n",
       "      <td>425000000.0</td>\n",
       "      <td>2.783919e+09</td>\n",
       "      <td>2009.000000</td>\n",
       "      <td>1.780000</td>\n",
       "      <td>178.000000</td>\n",
       "      <td>4834.0</td>\n",
       "      <td>2.370000e+08</td>\n",
       "      <td>7.9</td>\n",
       "      <td>7.605058e+08</td>\n",
       "    </tr>\n",
       "    <tr>\n",
       "      <th>1</th>\n",
       "      <td>306000000.0</td>\n",
       "      <td>2.058662e+09</td>\n",
       "      <td>2002.102628</td>\n",
       "      <td>2.126683</td>\n",
       "      <td>108.552703</td>\n",
       "      <td>143.0</td>\n",
       "      <td>3.712339e+07</td>\n",
       "      <td>7.1</td>\n",
       "      <td>4.819001e+07</td>\n",
       "    </tr>\n",
       "    <tr>\n",
       "      <th>2</th>\n",
       "      <td>300000000.0</td>\n",
       "      <td>9.634204e+08</td>\n",
       "      <td>2007.000000</td>\n",
       "      <td>2.350000</td>\n",
       "      <td>169.000000</td>\n",
       "      <td>48350.0</td>\n",
       "      <td>3.000000e+08</td>\n",
       "      <td>7.1</td>\n",
       "      <td>3.094042e+08</td>\n",
       "    </tr>\n",
       "    <tr>\n",
       "      <th>3</th>\n",
       "      <td>300000000.0</td>\n",
       "      <td>8.796209e+08</td>\n",
       "      <td>2015.000000</td>\n",
       "      <td>2.350000</td>\n",
       "      <td>148.000000</td>\n",
       "      <td>11700.0</td>\n",
       "      <td>2.450000e+08</td>\n",
       "      <td>6.8</td>\n",
       "      <td>2.000742e+08</td>\n",
       "    </tr>\n",
       "    <tr>\n",
       "      <th>4</th>\n",
       "      <td>275000000.0</td>\n",
       "      <td>1.084439e+09</td>\n",
       "      <td>2012.000000</td>\n",
       "      <td>2.350000</td>\n",
       "      <td>164.000000</td>\n",
       "      <td>106759.0</td>\n",
       "      <td>2.500000e+08</td>\n",
       "      <td>8.5</td>\n",
       "      <td>4.481306e+08</td>\n",
       "    </tr>\n",
       "  </tbody>\n",
       "</table>\n",
       "</div>"
      ],
      "text/plain": [
       "   production_budget  worldwide_gross   title_year  aspect_ratio    duration  \\\n",
       "0        425000000.0     2.783919e+09  2009.000000      1.780000  178.000000   \n",
       "1        306000000.0     2.058662e+09  2002.102628      2.126683  108.552703   \n",
       "2        300000000.0     9.634204e+08  2007.000000      2.350000  169.000000   \n",
       "3        300000000.0     8.796209e+08  2015.000000      2.350000  148.000000   \n",
       "4        275000000.0     1.084439e+09  2012.000000      2.350000  164.000000   \n",
       "\n",
       "   cast_total_facebook_likes        budget  imdb_score         gross  \n",
       "0                     4834.0  2.370000e+08         7.9  7.605058e+08  \n",
       "1                      143.0  3.712339e+07         7.1  4.819001e+07  \n",
       "2                    48350.0  3.000000e+08         7.1  3.094042e+08  \n",
       "3                    11700.0  2.450000e+08         6.8  2.000742e+08  \n",
       "4                   106759.0  2.500000e+08         8.5  4.481306e+08  "
      ]
     },
     "execution_count": 2,
     "metadata": {},
     "output_type": "execute_result"
    }
   ],
   "source": [
    "#Leemos nuestros datos de entrenamiento\n",
    "x = pd.read_csv('dataEntreno.csv')\n",
    "x.head()"
   ]
  },
  {
   "cell_type": "code",
   "execution_count": 3,
   "metadata": {},
   "outputs": [
    {
     "data": {
      "text/plain": [
       "count    4.061000e+03\n",
       "mean     9.545619e+07\n",
       "std      1.730473e+08\n",
       "min      4.500000e+02\n",
       "25%      7.445044e+06\n",
       "50%      3.346201e+07\n",
       "75%      1.045054e+08\n",
       "max      2.783919e+09\n",
       "Name: worldwide_gross, dtype: float64"
      ]
     },
     "execution_count": 3,
     "metadata": {},
     "output_type": "execute_result"
    }
   ],
   "source": [
    "#Seleccionamos nuestra variable objetivo\n",
    "y = x['worldwide_gross']\n",
    "y.describe()"
   ]
  },
  {
   "cell_type": "code",
   "execution_count": 4,
   "metadata": {},
   "outputs": [
    {
     "data": {
      "text/html": [
       "<div>\n",
       "<style scoped>\n",
       "    .dataframe tbody tr th:only-of-type {\n",
       "        vertical-align: middle;\n",
       "    }\n",
       "\n",
       "    .dataframe tbody tr th {\n",
       "        vertical-align: top;\n",
       "    }\n",
       "\n",
       "    .dataframe thead th {\n",
       "        text-align: right;\n",
       "    }\n",
       "</style>\n",
       "<table border=\"1\" class=\"dataframe\">\n",
       "  <thead>\n",
       "    <tr style=\"text-align: right;\">\n",
       "      <th></th>\n",
       "      <th>production_budget</th>\n",
       "      <th>title_year</th>\n",
       "      <th>aspect_ratio</th>\n",
       "      <th>duration</th>\n",
       "      <th>cast_total_facebook_likes</th>\n",
       "      <th>budget</th>\n",
       "      <th>imdb_score</th>\n",
       "      <th>gross</th>\n",
       "    </tr>\n",
       "  </thead>\n",
       "  <tbody>\n",
       "    <tr>\n",
       "      <th>count</th>\n",
       "      <td>4.061000e+03</td>\n",
       "      <td>4061.000000</td>\n",
       "      <td>4061.000000</td>\n",
       "      <td>4061.000000</td>\n",
       "      <td>4061.000000</td>\n",
       "      <td>4.061000e+03</td>\n",
       "      <td>4061.000000</td>\n",
       "      <td>4.061000e+03</td>\n",
       "    </tr>\n",
       "    <tr>\n",
       "      <th>mean</th>\n",
       "      <td>3.322837e+07</td>\n",
       "      <td>2002.102628</td>\n",
       "      <td>2.126683</td>\n",
       "      <td>108.552703</td>\n",
       "      <td>10307.988919</td>\n",
       "      <td>3.712339e+07</td>\n",
       "      <td>6.456513</td>\n",
       "      <td>4.819001e+07</td>\n",
       "    </tr>\n",
       "    <tr>\n",
       "      <th>std</th>\n",
       "      <td>4.088155e+07</td>\n",
       "      <td>12.036966</td>\n",
       "      <td>0.744570</td>\n",
       "      <td>23.091377</td>\n",
       "      <td>18821.488171</td>\n",
       "      <td>6.952630e+07</td>\n",
       "      <td>1.071517</td>\n",
       "      <td>6.398627e+07</td>\n",
       "    </tr>\n",
       "    <tr>\n",
       "      <th>min</th>\n",
       "      <td>1.100000e+03</td>\n",
       "      <td>1920.000000</td>\n",
       "      <td>1.180000</td>\n",
       "      <td>7.000000</td>\n",
       "      <td>0.000000</td>\n",
       "      <td>2.180000e+02</td>\n",
       "      <td>1.600000</td>\n",
       "      <td>1.620000e+02</td>\n",
       "    </tr>\n",
       "    <tr>\n",
       "      <th>25%</th>\n",
       "      <td>7.000000e+06</td>\n",
       "      <td>1999.000000</td>\n",
       "      <td>1.850000</td>\n",
       "      <td>94.000000</td>\n",
       "      <td>1591.000000</td>\n",
       "      <td>8.500000e+06</td>\n",
       "      <td>5.800000</td>\n",
       "      <td>7.017178e+06</td>\n",
       "    </tr>\n",
       "    <tr>\n",
       "      <th>50%</th>\n",
       "      <td>2.000000e+07</td>\n",
       "      <td>2005.000000</td>\n",
       "      <td>2.126683</td>\n",
       "      <td>104.000000</td>\n",
       "      <td>3341.000000</td>\n",
       "      <td>2.500000e+07</td>\n",
       "      <td>6.600000</td>\n",
       "      <td>3.174333e+07</td>\n",
       "    </tr>\n",
       "    <tr>\n",
       "      <th>75%</th>\n",
       "      <td>4.300000e+07</td>\n",
       "      <td>2010.000000</td>\n",
       "      <td>2.350000</td>\n",
       "      <td>119.000000</td>\n",
       "      <td>14619.000000</td>\n",
       "      <td>4.200000e+07</td>\n",
       "      <td>7.200000</td>\n",
       "      <td>5.643795e+07</td>\n",
       "    </tr>\n",
       "    <tr>\n",
       "      <th>max</th>\n",
       "      <td>4.250000e+08</td>\n",
       "      <td>2016.000000</td>\n",
       "      <td>16.000000</td>\n",
       "      <td>325.000000</td>\n",
       "      <td>656730.000000</td>\n",
       "      <td>2.500000e+09</td>\n",
       "      <td>9.500000</td>\n",
       "      <td>7.605058e+08</td>\n",
       "    </tr>\n",
       "  </tbody>\n",
       "</table>\n",
       "</div>"
      ],
      "text/plain": [
       "       production_budget   title_year  aspect_ratio     duration  \\\n",
       "count       4.061000e+03  4061.000000   4061.000000  4061.000000   \n",
       "mean        3.322837e+07  2002.102628      2.126683   108.552703   \n",
       "std         4.088155e+07    12.036966      0.744570    23.091377   \n",
       "min         1.100000e+03  1920.000000      1.180000     7.000000   \n",
       "25%         7.000000e+06  1999.000000      1.850000    94.000000   \n",
       "50%         2.000000e+07  2005.000000      2.126683   104.000000   \n",
       "75%         4.300000e+07  2010.000000      2.350000   119.000000   \n",
       "max         4.250000e+08  2016.000000     16.000000   325.000000   \n",
       "\n",
       "       cast_total_facebook_likes        budget   imdb_score         gross  \n",
       "count                4061.000000  4.061000e+03  4061.000000  4.061000e+03  \n",
       "mean                10307.988919  3.712339e+07     6.456513  4.819001e+07  \n",
       "std                 18821.488171  6.952630e+07     1.071517  6.398627e+07  \n",
       "min                     0.000000  2.180000e+02     1.600000  1.620000e+02  \n",
       "25%                  1591.000000  8.500000e+06     5.800000  7.017178e+06  \n",
       "50%                  3341.000000  2.500000e+07     6.600000  3.174333e+07  \n",
       "75%                 14619.000000  4.200000e+07     7.200000  5.643795e+07  \n",
       "max                656730.000000  2.500000e+09     9.500000  7.605058e+08  "
      ]
     },
     "execution_count": 4,
     "metadata": {},
     "output_type": "execute_result"
    }
   ],
   "source": [
    "x.drop('worldwide_gross', axis= 1, inplace=True)\n",
    "x.describe()"
   ]
  },
  {
   "cell_type": "markdown",
   "metadata": {},
   "source": [
    "## Modelo simple de regresión (lasso)"
   ]
  },
  {
   "cell_type": "code",
   "execution_count": 5,
   "metadata": {},
   "outputs": [],
   "source": [
    "#Definimos nuestras variables de entrenamiento y de pruebas\n",
    "X_train, X_test, y_train, y_test = train_test_split(x,y,test_size=0.4)"
   ]
  },
  {
   "cell_type": "code",
   "execution_count": 6,
   "metadata": {},
   "outputs": [
    {
     "name": "stdout",
     "output_type": "stream",
     "text": [
      "El tamño del dataset es de 4061\n",
      "El porcentaje del set de entrenamiento es de 0.5998522531396208\n",
      "El porcentaje del set de prueba es de 0.40014774686037924\n"
     ]
    }
   ],
   "source": [
    "#Miremos algunos datos\n",
    "print('El tamño del dataset es de {}'.format(len(x)))\n",
    "print('El porcentaje del set de entrenamiento es de {}'.format(len(X_train)/len(x)))\n",
    "print('El porcentaje del set de prueba es de {}'.format(len(X_test)/len(x)))"
   ]
  },
  {
   "cell_type": "code",
   "execution_count": 7,
   "metadata": {},
   "outputs": [],
   "source": [
    "# Instanciamos nuestro estimador\n",
    "model = Lasso()"
   ]
  },
  {
   "cell_type": "code",
   "execution_count": 8,
   "metadata": {},
   "outputs": [
    {
     "data": {
      "text/plain": [
       "Lasso(alpha=1.0, copy_X=True, fit_intercept=True, max_iter=1000,\n",
       "      normalize=False, positive=False, precompute=False, random_state=None,\n",
       "      selection='cyclic', tol=0.0001, warm_start=False)"
      ]
     },
     "execution_count": 8,
     "metadata": {},
     "output_type": "execute_result"
    }
   ],
   "source": [
    "#Iniciamos el entreno de nuestro modelo\n",
    "model.fit(X_train, y_train)"
   ]
  },
  {
   "cell_type": "code",
   "execution_count": 9,
   "metadata": {},
   "outputs": [
    {
     "data": {
      "text/plain": [
       "array([8.52985653e+07, 1.07833868e+08, 4.34579939e+07, ...,\n",
       "       3.27345926e+07, 2.80724846e+08, 4.86095730e+07])"
      ]
     },
     "execution_count": 9,
     "metadata": {},
     "output_type": "execute_result"
    }
   ],
   "source": [
    "#Predecimos con nuestros datos de prueba\n",
    "predicted = model.predict(X_test)\n",
    "predicted"
   ]
  },
  {
   "cell_type": "code",
   "execution_count": 10,
   "metadata": {},
   "outputs": [],
   "source": [
    "# Graficar en Jupyter\n",
    "%matplotlib inline"
   ]
  },
  {
   "cell_type": "code",
   "execution_count": 11,
   "metadata": {},
   "outputs": [
    {
     "data": {
      "image/png": "[encoded data removed]",
      "text/plain": [
       "<Figure size 432x288 with 1 Axes>"
      ]
     },
     "metadata": {
      "needs_background": "light"
     },
     "output_type": "display_data"
    }
   ],
   "source": [
    "plt.hist([predicted,y_test]);"
   ]
  },
  {
   "cell_type": "markdown",
   "metadata": {},
   "source": [
    "#### Evaluación del comportamiento de nuestro modelo"
   ]
  },
  {
   "cell_type": "code",
   "execution_count": 12,
   "metadata": {},
   "outputs": [
    {
     "data": {
      "text/plain": [
       "0.8668230450272724"
      ]
     },
     "execution_count": 12,
     "metadata": {},
     "output_type": "execute_result"
    }
   ],
   "source": [
    "#Miramos el score\n",
    "model.score(X_test,y_test)"
   ]
  },
  {
   "cell_type": "markdown",
   "metadata": {},
   "source": [
    "Un buen score R2 es importante para una regresión. Pero no lo es todo. De forma general los scores hay que complementarlos con visualizaciones de los datos ya que una métrica no logra siempre encodear todas las caracteristicas de una distribución de probabilidades."
   ]
  },
  {
   "cell_type": "code",
   "execution_count": 13,
   "metadata": {},
   "outputs": [
    {
     "data": {
      "text/plain": [
       "874    -3.918593e+07\n",
       "292     2.789397e+06\n",
       "3049   -2.047426e+06\n",
       "3314    3.592221e+07\n",
       "2067    2.382494e+07\n",
       "Name: worldwide_gross, dtype: float64"
      ]
     },
     "execution_count": 13,
     "metadata": {},
     "output_type": "execute_result"
    }
   ],
   "source": [
    "#Miramos los residuos\n",
    "residuals = y_test - predicted\n",
    "residuals.head()"
   ]
  },
  {
   "cell_type": "code",
   "execution_count": 14,
   "metadata": {},
   "outputs": [
    {
     "name": "stdout",
     "output_type": "stream",
     "text": [
      "(1625,) (1625,) (1625,)\n"
     ]
    }
   ],
   "source": [
    "print(residuals.shape,y_test.shape,predicted.shape)"
   ]
  },
  {
   "cell_type": "code",
   "execution_count": 15,
   "metadata": {},
   "outputs": [
    {
     "data": {
      "text/plain": [
       "False"
      ]
     },
     "execution_count": 15,
     "metadata": {},
     "output_type": "execute_result"
    }
   ],
   "source": [
    "np.array_equal(residuals,y_test)"
   ]
  },
  {
   "cell_type": "code",
   "execution_count": 16,
   "metadata": {},
   "outputs": [
    {
     "data": {
      "text/plain": [
       "False"
      ]
     },
     "execution_count": 16,
     "metadata": {},
     "output_type": "execute_result"
    }
   ],
   "source": [
    "np.array_equal(y_test,predicted)"
   ]
  },
  {
   "cell_type": "markdown",
   "metadata": {},
   "source": [
    "Si hay patrones aparentes, es malo"
   ]
  },
  {
   "cell_type": "code",
   "execution_count": 17,
   "metadata": {},
   "outputs": [
    {
     "data": {
      "text/plain": [
       "<matplotlib.collections.PathCollection at 0x191191582e8>"
      ]
     },
     "execution_count": 17,
     "metadata": {},
     "output_type": "execute_result"
    },
    {
     "data": {
      "image/png": "[encoded data removed]",
      "text/plain": [
       "<Figure size 432x288 with 1 Axes>"
      ]
     },
     "metadata": {
      "needs_background": "light"
     },
     "output_type": "display_data"
    }
   ],
   "source": [
    "plt.scatter(y_test,residuals)"
   ]
  },
  {
   "cell_type": "code",
   "execution_count": 18,
   "metadata": {},
   "outputs": [],
   "source": [
    "# Errores en porcentaje ---> \"Normalizar\"\n",
    "ap_residuals = np.abs(residuals) / y_test"
   ]
  },
  {
   "cell_type": "code",
   "execution_count": 19,
   "metadata": {
    "scrolled": true
   },
   "outputs": [
    {
     "data": {
      "text/plain": [
       "<matplotlib.collections.PathCollection at 0x191191bfe48>"
      ]
     },
     "execution_count": 19,
     "metadata": {},
     "output_type": "execute_result"
    },
    {
     "data": {
      "image/png": "[encoded data removed]",
      "text/plain": [
       "<Figure size 432x288 with 1 Axes>"
      ]
     },
     "metadata": {
      "needs_background": "light"
     },
     "output_type": "display_data"
    }
   ],
   "source": [
    "plt.scatter(y_test,ap_residuals)"
   ]
  },
  {
   "cell_type": "code",
   "execution_count": 20,
   "metadata": {},
   "outputs": [],
   "source": [
    "#Como hay residuos muy alejados usare una escala logaritmica\n",
    "log_residuals =np.log(ap_residuals)"
   ]
  },
  {
   "cell_type": "code",
   "execution_count": 21,
   "metadata": {},
   "outputs": [
    {
     "data": {
      "text/plain": [
       "<matplotlib.collections.PathCollection at 0x19119232198>"
      ]
     },
     "execution_count": 21,
     "metadata": {},
     "output_type": "execute_result"
    },
    {
     "data": {
      "image/png": "[encoded data removed]",
      "text/plain": [
       "<Figure size 432x288 with 1 Axes>"
      ]
     },
     "metadata": {
      "needs_background": "light"
     },
     "output_type": "display_data"
    }
   ],
   "source": [
    "plt.scatter(y_test,log_residuals)"
   ]
  },
  {
   "cell_type": "code",
   "execution_count": 22,
   "metadata": {},
   "outputs": [
    {
     "data": {
      "text/plain": [
       "(array([6.15384615e-04, 6.15384615e-04, 6.15384615e-04, 6.15384615e-04,\n",
       "        1.23076923e-03, 1.23076923e-03, 1.23076923e-03, 1.84615385e-03,\n",
       "        2.46153846e-03, 2.46153846e-03, 2.46153846e-03, 2.46153846e-03,\n",
       "        3.07692308e-03, 4.30769231e-03, 7.38461538e-03, 8.61538462e-03,\n",
       "        9.23076923e-03, 1.29230769e-02, 1.47692308e-02, 1.66153846e-02,\n",
       "        2.40000000e-02, 2.83076923e-02, 3.38461538e-02, 4.06153846e-02,\n",
       "        4.92307692e-02, 5.84615385e-02, 6.95384615e-02, 8.67692308e-02,\n",
       "        1.07076923e-01, 1.27384615e-01, 1.55076923e-01, 1.96923077e-01,\n",
       "        2.44923077e-01, 2.92307692e-01, 3.43384615e-01, 3.95076923e-01,\n",
       "        4.42461538e-01, 4.92307692e-01, 5.41538462e-01, 5.87692308e-01,\n",
       "        6.27692308e-01, 6.57846154e-01, 6.92923077e-01, 7.13846154e-01,\n",
       "        7.34769231e-01, 7.55076923e-01, 7.70461538e-01, 7.85230769e-01,\n",
       "        7.97538462e-01, 8.11076923e-01, 8.20923077e-01, 8.30769231e-01,\n",
       "        8.40615385e-01, 8.47384615e-01, 8.54769231e-01, 8.67076923e-01,\n",
       "        8.75076923e-01, 8.84923077e-01, 8.92923077e-01, 9.00307692e-01,\n",
       "        9.08923077e-01, 9.11384615e-01, 9.17538462e-01, 9.23076923e-01,\n",
       "        9.28615385e-01, 9.35384615e-01, 9.37846154e-01, 9.42769231e-01,\n",
       "        9.45230769e-01, 9.49538462e-01, 9.52000000e-01, 9.57538462e-01,\n",
       "        9.61230769e-01, 9.62461538e-01, 9.66769231e-01, 9.68000000e-01,\n",
       "        9.69846154e-01, 9.71076923e-01, 9.72307692e-01, 9.74769231e-01,\n",
       "        9.76615385e-01, 9.80307692e-01, 9.83384615e-01, 9.85230769e-01,\n",
       "        9.89538462e-01, 9.92000000e-01, 9.93230769e-01, 9.93230769e-01,\n",
       "        9.93846154e-01, 9.93846154e-01, 9.95692308e-01, 9.95692308e-01,\n",
       "        9.96923077e-01, 9.96923077e-01, 9.98153846e-01, 9.98153846e-01,\n",
       "        9.98769231e-01, 9.99384615e-01, 9.99384615e-01, 1.00000000e+00]),\n",
       " array([-8.1357676 , -7.93376199, -7.73175639, -7.52975078, -7.32774518,\n",
       "        -7.12573957, -6.92373397, -6.72172837, -6.51972276, -6.31771716,\n",
       "        -6.11571155, -5.91370595, -5.71170034, -5.50969474, -5.30768913,\n",
       "        -5.10568353, -4.90367792, -4.70167232, -4.49966671, -4.29766111,\n",
       "        -4.0956555 , -3.8936499 , -3.69164429, -3.48963869, -3.28763308,\n",
       "        -3.08562748, -2.88362187, -2.68161627, -2.47961066, -2.27760506,\n",
       "        -2.07559945, -1.87359385, -1.67158824, -1.46958264, -1.26757704,\n",
       "        -1.06557143, -0.86356583, -0.66156022, -0.45955462, -0.25754901,\n",
       "        -0.05554341,  0.1464622 ,  0.3484678 ,  0.55047341,  0.75247901,\n",
       "         0.95448462,  1.15649022,  1.35849583,  1.56050143,  1.76250704,\n",
       "         1.96451264,  2.16651825,  2.36852385,  2.57052946,  2.77253506,\n",
       "         2.97454067,  3.17654627,  3.37855188,  3.58055748,  3.78256308,\n",
       "         3.98456869,  4.18657429,  4.3885799 ,  4.5905855 ,  4.79259111,\n",
       "         4.99459671,  5.19660232,  5.39860792,  5.60061353,  5.80261913,\n",
       "         6.00462474,  6.20663034,  6.40863595,  6.61064155,  6.81264716,\n",
       "         7.01465276,  7.21665837,  7.41866397,  7.62066958,  7.82267518,\n",
       "         8.02468079,  8.22668639,  8.428692  ,  8.6306976 ,  8.83270321,\n",
       "         9.03470881,  9.23671441,  9.43872002,  9.64072562,  9.84273123,\n",
       "        10.04473683, 10.24674244, 10.44874804, 10.65075365, 10.85275925,\n",
       "        11.05476486, 11.25677046, 11.45877607, 11.66078167, 11.86278728,\n",
       "        12.06479288]),\n",
       " <a list of 1 Patch objects>)"
      ]
     },
     "execution_count": 22,
     "metadata": {},
     "output_type": "execute_result"
    },
    {
     "data": {
      "image/png": "[encoded data removed]",
      "text/plain": [
       "<Figure size 432x288 with 1 Axes>"
      ]
     },
     "metadata": {
      "needs_background": "light"
     },
     "output_type": "display_data"
    }
   ],
   "source": [
    "# Hacemos una evaluacion de errores Diagrama de escala acumulativa de distribucion de errores\n",
    "# haremos un histograma, normalizado\n",
    "plt.hist(log_residuals,bins=100,density=1,histtype='step', cumulative=True)\n",
    "# Un error menor al 100% del ingreso lo tengo para el 70% de los datos\n",
    "# un erro del 10% para 40% de los datos"
   ]
  },
  {
   "cell_type": "code",
   "execution_count": 23,
   "metadata": {},
   "outputs": [
    {
     "data": {
      "text/plain": [
       "array([0.13533528, 0.22313016, 0.36787944, 0.60653066, 1.        ])"
      ]
     },
     "execution_count": 23,
     "metadata": {},
     "output_type": "execute_result"
    },
    {
     "data": {
      "image/png": "[encoded data removed]",
      "text/plain": [
       "<Figure size 432x288 with 1 Axes>"
      ]
     },
     "metadata": {
      "needs_background": "light"
     },
     "output_type": "display_data"
    }
   ],
   "source": [
    "plt.hist(log_residuals, bins=100, density=1, histtype='step',cumulative=True);\n",
    "plt.axis([-2,0,0,1])\n",
    "np.power(np.exp(1)*np.ones(5),np.linspace(-2,0,5))\n",
    "#Un erro de 1% lo tengo para un 20% de los datos\n",
    "#Errores inferiores al 10% tengo un 40% de los datos"
   ]
  },
  {
   "cell_type": "code",
   "execution_count": 24,
   "metadata": {},
   "outputs": [
    {
     "data": {
      "text/html": [
       "<div>\n",
       "<style scoped>\n",
       "    .dataframe tbody tr th:only-of-type {\n",
       "        vertical-align: middle;\n",
       "    }\n",
       "\n",
       "    .dataframe tbody tr th {\n",
       "        vertical-align: top;\n",
       "    }\n",
       "\n",
       "    .dataframe thead th {\n",
       "        text-align: right;\n",
       "    }\n",
       "</style>\n",
       "<table border=\"1\" class=\"dataframe\">\n",
       "  <thead>\n",
       "    <tr style=\"text-align: right;\">\n",
       "      <th></th>\n",
       "      <th>production_budget</th>\n",
       "      <th>title_year</th>\n",
       "      <th>aspect_ratio</th>\n",
       "      <th>duration</th>\n",
       "      <th>cast_total_facebook_likes</th>\n",
       "      <th>budget</th>\n",
       "      <th>imdb_score</th>\n",
       "      <th>gross</th>\n",
       "    </tr>\n",
       "  </thead>\n",
       "  <tbody>\n",
       "    <tr>\n",
       "      <th>production_budget</th>\n",
       "      <td>1.000000</td>\n",
       "      <td>0.205812</td>\n",
       "      <td>0.076272</td>\n",
       "      <td>0.272109</td>\n",
       "      <td>0.233954</td>\n",
       "      <td>0.519611</td>\n",
       "      <td>0.033352</td>\n",
       "      <td>0.639750</td>\n",
       "    </tr>\n",
       "    <tr>\n",
       "      <th>title_year</th>\n",
       "      <td>0.205812</td>\n",
       "      <td>1.000000</td>\n",
       "      <td>0.130135</td>\n",
       "      <td>-0.140261</td>\n",
       "      <td>0.124159</td>\n",
       "      <td>0.125360</td>\n",
       "      <td>-0.177560</td>\n",
       "      <td>0.012704</td>\n",
       "    </tr>\n",
       "    <tr>\n",
       "      <th>aspect_ratio</th>\n",
       "      <td>0.076272</td>\n",
       "      <td>0.130135</td>\n",
       "      <td>1.000000</td>\n",
       "      <td>-0.013447</td>\n",
       "      <td>0.020563</td>\n",
       "      <td>0.046687</td>\n",
       "      <td>0.037795</td>\n",
       "      <td>0.029466</td>\n",
       "    </tr>\n",
       "    <tr>\n",
       "      <th>duration</th>\n",
       "      <td>0.272109</td>\n",
       "      <td>-0.140261</td>\n",
       "      <td>-0.013447</td>\n",
       "      <td>1.000000</td>\n",
       "      <td>0.120608</td>\n",
       "      <td>0.182824</td>\n",
       "      <td>0.317001</td>\n",
       "      <td>0.235836</td>\n",
       "    </tr>\n",
       "    <tr>\n",
       "      <th>cast_total_facebook_likes</th>\n",
       "      <td>0.233954</td>\n",
       "      <td>0.124159</td>\n",
       "      <td>0.020563</td>\n",
       "      <td>0.120608</td>\n",
       "      <td>1.000000</td>\n",
       "      <td>0.113938</td>\n",
       "      <td>0.097513</td>\n",
       "      <td>0.207323</td>\n",
       "    </tr>\n",
       "    <tr>\n",
       "      <th>budget</th>\n",
       "      <td>0.519611</td>\n",
       "      <td>0.125360</td>\n",
       "      <td>0.046687</td>\n",
       "      <td>0.182824</td>\n",
       "      <td>0.113938</td>\n",
       "      <td>1.000000</td>\n",
       "      <td>0.034820</td>\n",
       "      <td>0.326548</td>\n",
       "    </tr>\n",
       "    <tr>\n",
       "      <th>imdb_score</th>\n",
       "      <td>0.033352</td>\n",
       "      <td>-0.177560</td>\n",
       "      <td>0.037795</td>\n",
       "      <td>0.317001</td>\n",
       "      <td>0.097513</td>\n",
       "      <td>0.034820</td>\n",
       "      <td>1.000000</td>\n",
       "      <td>0.201647</td>\n",
       "    </tr>\n",
       "    <tr>\n",
       "      <th>gross</th>\n",
       "      <td>0.639750</td>\n",
       "      <td>0.012704</td>\n",
       "      <td>0.029466</td>\n",
       "      <td>0.235836</td>\n",
       "      <td>0.207323</td>\n",
       "      <td>0.326548</td>\n",
       "      <td>0.201647</td>\n",
       "      <td>1.000000</td>\n",
       "    </tr>\n",
       "  </tbody>\n",
       "</table>\n",
       "</div>"
      ],
      "text/plain": [
       "                           production_budget  title_year  aspect_ratio  \\\n",
       "production_budget                   1.000000    0.205812      0.076272   \n",
       "title_year                          0.205812    1.000000      0.130135   \n",
       "aspect_ratio                        0.076272    0.130135      1.000000   \n",
       "duration                            0.272109   -0.140261     -0.013447   \n",
       "cast_total_facebook_likes           0.233954    0.124159      0.020563   \n",
       "budget                              0.519611    0.125360      0.046687   \n",
       "imdb_score                          0.033352   -0.177560      0.037795   \n",
       "gross                               0.639750    0.012704      0.029466   \n",
       "\n",
       "                           duration  cast_total_facebook_likes    budget  \\\n",
       "production_budget          0.272109                   0.233954  0.519611   \n",
       "title_year                -0.140261                   0.124159  0.125360   \n",
       "aspect_ratio              -0.013447                   0.020563  0.046687   \n",
       "duration                   1.000000                   0.120608  0.182824   \n",
       "cast_total_facebook_likes  0.120608                   1.000000  0.113938   \n",
       "budget                     0.182824                   0.113938  1.000000   \n",
       "imdb_score                 0.317001                   0.097513  0.034820   \n",
       "gross                      0.235836                   0.207323  0.326548   \n",
       "\n",
       "                           imdb_score     gross  \n",
       "production_budget            0.033352  0.639750  \n",
       "title_year                  -0.177560  0.012704  \n",
       "aspect_ratio                 0.037795  0.029466  \n",
       "duration                     0.317001  0.235836  \n",
       "cast_total_facebook_likes    0.097513  0.207323  \n",
       "budget                       0.034820  0.326548  \n",
       "imdb_score                   1.000000  0.201647  \n",
       "gross                        0.201647  1.000000  "
      ]
     },
     "execution_count": 24,
     "metadata": {},
     "output_type": "execute_result"
    }
   ],
   "source": [
    "# Calcula la matriz de correlacion\n",
    "x.corr()"
   ]
  },
  {
   "cell_type": "code",
   "execution_count": 25,
   "metadata": {},
   "outputs": [
    {
     "data": {
      "text/plain": [
       "<matplotlib.axes._subplots.AxesSubplot at 0x19119337048>"
      ]
     },
     "execution_count": 25,
     "metadata": {},
     "output_type": "execute_result"
    },
    {
     "data": {
      "image/png": "[encoded data removed]",
      "text/plain": [
       "<Figure size 432x288 with 2 Axes>"
      ]
     },
     "metadata": {
      "needs_background": "light"
     },
     "output_type": "display_data"
    }
   ],
   "source": [
    "sb.heatmap(x.corr())"
   ]
  },
  {
   "cell_type": "code",
   "execution_count": null,
   "metadata": {},
   "outputs": [],
   "source": []
  }
 ],
 "metadata": {
  "kernelspec": {
   "display_name": "Python 3",
   "language": "python",
   "name": "python3"
  },
  "language_info": {
   "codemirror_mode": {
    "name": "ipython",
    "version": 3
   },
   "file_extension": ".py",
   "mimetype": "text/x-python",
   "name": "python",
   "nbconvert_exporter": "python",
   "pygments_lexer": "ipython3",
   "version": "3.7.3"
  }
 },
 "nbformat": 4,
 "nbformat_minor": 2
}
