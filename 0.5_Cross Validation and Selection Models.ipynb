{
 "cells": [
  {
   "cell_type": "code",
   "execution_count": 1,
   "metadata": {},
   "outputs": [],
   "source": [
    "import pandas as pd\n",
    "import numpy as np\n",
    "import matplotlib.pyplot as plt\n",
    "%matplotlib inline"
   ]
  },
  {
   "cell_type": "code",
   "execution_count": 2,
   "metadata": {},
   "outputs": [],
   "source": [
    "X = pd.read_csv('X_opening.csv')\n",
    "y = X['worldwide_gross']\n",
    "X = X.drop('worldwide_gross', axis=1)"
   ]
  },
  {
   "cell_type": "code",
   "execution_count": 3,
   "metadata": {},
   "outputs": [
    {
     "data": {
      "text/html": [
       "<div>\n",
       "<style scoped>\n",
       "    .dataframe tbody tr th:only-of-type {\n",
       "        vertical-align: middle;\n",
       "    }\n",
       "\n",
       "    .dataframe tbody tr th {\n",
       "        vertical-align: top;\n",
       "    }\n",
       "\n",
       "    .dataframe thead th {\n",
       "        text-align: right;\n",
       "    }\n",
       "</style>\n",
       "<table border=\"1\" class=\"dataframe\">\n",
       "  <thead>\n",
       "    <tr style=\"text-align: right;\">\n",
       "      <th></th>\n",
       "      <th>production_budget</th>\n",
       "      <th>title_year</th>\n",
       "      <th>aspect_ratio</th>\n",
       "      <th>duration.1</th>\n",
       "      <th>cast_total_facebook_likes</th>\n",
       "      <th>budget</th>\n",
       "      <th>imdb_score</th>\n",
       "      <th>opening_gross</th>\n",
       "      <th>screens</th>\n",
       "    </tr>\n",
       "  </thead>\n",
       "  <tbody>\n",
       "    <tr>\n",
       "      <th>0</th>\n",
       "      <td>425000000.0</td>\n",
       "      <td>2009.0</td>\n",
       "      <td>1.78</td>\n",
       "      <td>178.0</td>\n",
       "      <td>4834.0</td>\n",
       "      <td>237000000.0</td>\n",
       "      <td>7.9</td>\n",
       "      <td>77025481.0</td>\n",
       "      <td>3452.0</td>\n",
       "    </tr>\n",
       "    <tr>\n",
       "      <th>1</th>\n",
       "      <td>300000000.0</td>\n",
       "      <td>2007.0</td>\n",
       "      <td>2.35</td>\n",
       "      <td>169.0</td>\n",
       "      <td>48350.0</td>\n",
       "      <td>300000000.0</td>\n",
       "      <td>7.1</td>\n",
       "      <td>139802190.0</td>\n",
       "      <td>4362.0</td>\n",
       "    </tr>\n",
       "    <tr>\n",
       "      <th>2</th>\n",
       "      <td>300000000.0</td>\n",
       "      <td>2015.0</td>\n",
       "      <td>2.35</td>\n",
       "      <td>148.0</td>\n",
       "      <td>11700.0</td>\n",
       "      <td>245000000.0</td>\n",
       "      <td>6.8</td>\n",
       "      <td>70403148.0</td>\n",
       "      <td>3929.0</td>\n",
       "    </tr>\n",
       "    <tr>\n",
       "      <th>3</th>\n",
       "      <td>275000000.0</td>\n",
       "      <td>2012.0</td>\n",
       "      <td>2.35</td>\n",
       "      <td>164.0</td>\n",
       "      <td>106759.0</td>\n",
       "      <td>250000000.0</td>\n",
       "      <td>8.5</td>\n",
       "      <td>160887295.0</td>\n",
       "      <td>4404.0</td>\n",
       "    </tr>\n",
       "    <tr>\n",
       "      <th>4</th>\n",
       "      <td>275000000.0</td>\n",
       "      <td>2013.0</td>\n",
       "      <td>2.35</td>\n",
       "      <td>150.0</td>\n",
       "      <td>45757.0</td>\n",
       "      <td>215000000.0</td>\n",
       "      <td>6.5</td>\n",
       "      <td>29210849.0</td>\n",
       "      <td>3904.0</td>\n",
       "    </tr>\n",
       "  </tbody>\n",
       "</table>\n",
       "</div>"
      ],
      "text/plain": [
       "   production_budget  title_year  aspect_ratio  duration.1  \\\n",
       "0        425000000.0      2009.0          1.78       178.0   \n",
       "1        300000000.0      2007.0          2.35       169.0   \n",
       "2        300000000.0      2015.0          2.35       148.0   \n",
       "3        275000000.0      2012.0          2.35       164.0   \n",
       "4        275000000.0      2013.0          2.35       150.0   \n",
       "\n",
       "   cast_total_facebook_likes       budget  imdb_score  opening_gross  screens  \n",
       "0                     4834.0  237000000.0         7.9     77025481.0   3452.0  \n",
       "1                    48350.0  300000000.0         7.1    139802190.0   4362.0  \n",
       "2                    11700.0  245000000.0         6.8     70403148.0   3929.0  \n",
       "3                   106759.0  250000000.0         8.5    160887295.0   4404.0  \n",
       "4                    45757.0  215000000.0         6.5     29210849.0   3904.0  "
      ]
     },
     "execution_count": 3,
     "metadata": {},
     "output_type": "execute_result"
    }
   ],
   "source": [
    "X.head()"
   ]
  },
  {
   "cell_type": "markdown",
   "metadata": {},
   "source": [
    "# Hay que escoger una metrica de rendimiento"
   ]
  },
  {
   "cell_type": "markdown",
   "metadata": {},
   "source": [
    "El traint test split particiona los datos y el score de prediccion puede variar en diferentes iteraciones por lo tanto hay que variar"
   ]
  },
  {
   "cell_type": "code",
   "execution_count": 4,
   "metadata": {},
   "outputs": [],
   "source": [
    "from sklearn.model_selection import train_test_split"
   ]
  },
  {
   "cell_type": "code",
   "execution_count": 5,
   "metadata": {},
   "outputs": [],
   "source": [
    "X_train, X_tes, y_train, y_test = train_test_split(X,y)"
   ]
  },
  {
   "cell_type": "markdown",
   "metadata": {},
   "source": [
    "Lo que buscamos es que los analisis sean reproducibles, lo que no pasa con traint testsplit, la particion es distinta, a menos que usemos una semmilla"
   ]
  },
  {
   "cell_type": "markdown",
   "metadata": {},
   "source": [
    "Agrego dos columnas, una es el ingreso la primera semana y la segundo las cines<br>\n",
    "Entre mas cines trasmitida la pelicula, mayor información aportaria"
   ]
  },
  {
   "cell_type": "code",
   "execution_count": 6,
   "metadata": {},
   "outputs": [
    {
     "data": {
      "text/html": [
       "<div>\n",
       "<style scoped>\n",
       "    .dataframe tbody tr th:only-of-type {\n",
       "        vertical-align: middle;\n",
       "    }\n",
       "\n",
       "    .dataframe tbody tr th {\n",
       "        vertical-align: top;\n",
       "    }\n",
       "\n",
       "    .dataframe thead th {\n",
       "        text-align: right;\n",
       "    }\n",
       "</style>\n",
       "<table border=\"1\" class=\"dataframe\">\n",
       "  <thead>\n",
       "    <tr style=\"text-align: right;\">\n",
       "      <th></th>\n",
       "      <th>production_budget</th>\n",
       "      <th>title_year</th>\n",
       "      <th>aspect_ratio</th>\n",
       "      <th>duration.1</th>\n",
       "      <th>cast_total_facebook_likes</th>\n",
       "      <th>budget</th>\n",
       "      <th>imdb_score</th>\n",
       "      <th>opening_gross</th>\n",
       "      <th>screens</th>\n",
       "    </tr>\n",
       "  </thead>\n",
       "  <tbody>\n",
       "    <tr>\n",
       "      <th>1814</th>\n",
       "      <td>18000000.0</td>\n",
       "      <td>2013.0</td>\n",
       "      <td>2.35</td>\n",
       "      <td>98.0</td>\n",
       "      <td>1353.0</td>\n",
       "      <td>18000000.0</td>\n",
       "      <td>7.3</td>\n",
       "      <td>612064.0</td>\n",
       "      <td>6.0</td>\n",
       "    </tr>\n",
       "    <tr>\n",
       "      <th>1034</th>\n",
       "      <td>40000000.0</td>\n",
       "      <td>2015.0</td>\n",
       "      <td>2.35</td>\n",
       "      <td>110.0</td>\n",
       "      <td>12876.0</td>\n",
       "      <td>40000000.0</td>\n",
       "      <td>6.0</td>\n",
       "      <td>2469341.0</td>\n",
       "      <td>2797.0</td>\n",
       "    </tr>\n",
       "    <tr>\n",
       "      <th>896</th>\n",
       "      <td>45000000.0</td>\n",
       "      <td>2010.0</td>\n",
       "      <td>2.35</td>\n",
       "      <td>128.0</td>\n",
       "      <td>2507.0</td>\n",
       "      <td>45000000.0</td>\n",
       "      <td>7.2</td>\n",
       "      <td>183009.0</td>\n",
       "      <td>4.0</td>\n",
       "    </tr>\n",
       "    <tr>\n",
       "      <th>65</th>\n",
       "      <td>175000000.0</td>\n",
       "      <td>2009.0</td>\n",
       "      <td>2.35</td>\n",
       "      <td>94.0</td>\n",
       "      <td>2579.0</td>\n",
       "      <td>175000000.0</td>\n",
       "      <td>6.5</td>\n",
       "      <td>59321095.0</td>\n",
       "      <td>4104.0</td>\n",
       "    </tr>\n",
       "    <tr>\n",
       "      <th>1700</th>\n",
       "      <td>20000000.0</td>\n",
       "      <td>2015.0</td>\n",
       "      <td>2.35</td>\n",
       "      <td>111.0</td>\n",
       "      <td>9941.0</td>\n",
       "      <td>19500000.0</td>\n",
       "      <td>6.2</td>\n",
       "      <td>6652996.0</td>\n",
       "      <td>2392.0</td>\n",
       "    </tr>\n",
       "  </tbody>\n",
       "</table>\n",
       "</div>"
      ],
      "text/plain": [
       "      production_budget  title_year  aspect_ratio  duration.1  \\\n",
       "1814         18000000.0      2013.0          2.35        98.0   \n",
       "1034         40000000.0      2015.0          2.35       110.0   \n",
       "896          45000000.0      2010.0          2.35       128.0   \n",
       "65          175000000.0      2009.0          2.35        94.0   \n",
       "1700         20000000.0      2015.0          2.35       111.0   \n",
       "\n",
       "      cast_total_facebook_likes       budget  imdb_score  opening_gross  \\\n",
       "1814                     1353.0   18000000.0         7.3       612064.0   \n",
       "1034                    12876.0   40000000.0         6.0      2469341.0   \n",
       "896                      2507.0   45000000.0         7.2       183009.0   \n",
       "65                       2579.0  175000000.0         6.5     59321095.0   \n",
       "1700                     9941.0   19500000.0         6.2      6652996.0   \n",
       "\n",
       "      screens  \n",
       "1814      6.0  \n",
       "1034   2797.0  \n",
       "896       4.0  \n",
       "65     4104.0  \n",
       "1700   2392.0  "
      ]
     },
     "execution_count": 6,
     "metadata": {},
     "output_type": "execute_result"
    }
   ],
   "source": [
    "X_train.head()"
   ]
  },
  {
   "cell_type": "code",
   "execution_count": 7,
   "metadata": {
    "scrolled": true
   },
   "outputs": [
    {
     "data": {
      "text/html": [
       "<div>\n",
       "<style scoped>\n",
       "    .dataframe tbody tr th:only-of-type {\n",
       "        vertical-align: middle;\n",
       "    }\n",
       "\n",
       "    .dataframe tbody tr th {\n",
       "        vertical-align: top;\n",
       "    }\n",
       "\n",
       "    .dataframe thead th {\n",
       "        text-align: right;\n",
       "    }\n",
       "</style>\n",
       "<table border=\"1\" class=\"dataframe\">\n",
       "  <thead>\n",
       "    <tr style=\"text-align: right;\">\n",
       "      <th></th>\n",
       "      <th>production_budget</th>\n",
       "      <th>title_year</th>\n",
       "      <th>aspect_ratio</th>\n",
       "      <th>duration.1</th>\n",
       "      <th>cast_total_facebook_likes</th>\n",
       "      <th>budget</th>\n",
       "      <th>imdb_score</th>\n",
       "      <th>opening_gross</th>\n",
       "      <th>screens</th>\n",
       "    </tr>\n",
       "  </thead>\n",
       "  <tbody>\n",
       "    <tr>\n",
       "      <th>1814</th>\n",
       "      <td>18000000.0</td>\n",
       "      <td>2013.0</td>\n",
       "      <td>2.35</td>\n",
       "      <td>98.0</td>\n",
       "      <td>1353.0</td>\n",
       "      <td>18000000.0</td>\n",
       "      <td>7.3</td>\n",
       "      <td>612064.0</td>\n",
       "      <td>6.0</td>\n",
       "    </tr>\n",
       "    <tr>\n",
       "      <th>1034</th>\n",
       "      <td>40000000.0</td>\n",
       "      <td>2015.0</td>\n",
       "      <td>2.35</td>\n",
       "      <td>110.0</td>\n",
       "      <td>12876.0</td>\n",
       "      <td>40000000.0</td>\n",
       "      <td>6.0</td>\n",
       "      <td>2469341.0</td>\n",
       "      <td>2797.0</td>\n",
       "    </tr>\n",
       "    <tr>\n",
       "      <th>896</th>\n",
       "      <td>45000000.0</td>\n",
       "      <td>2010.0</td>\n",
       "      <td>2.35</td>\n",
       "      <td>128.0</td>\n",
       "      <td>2507.0</td>\n",
       "      <td>45000000.0</td>\n",
       "      <td>7.2</td>\n",
       "      <td>183009.0</td>\n",
       "      <td>4.0</td>\n",
       "    </tr>\n",
       "    <tr>\n",
       "      <th>65</th>\n",
       "      <td>175000000.0</td>\n",
       "      <td>2009.0</td>\n",
       "      <td>2.35</td>\n",
       "      <td>94.0</td>\n",
       "      <td>2579.0</td>\n",
       "      <td>175000000.0</td>\n",
       "      <td>6.5</td>\n",
       "      <td>59321095.0</td>\n",
       "      <td>4104.0</td>\n",
       "    </tr>\n",
       "    <tr>\n",
       "      <th>1700</th>\n",
       "      <td>20000000.0</td>\n",
       "      <td>2015.0</td>\n",
       "      <td>2.35</td>\n",
       "      <td>111.0</td>\n",
       "      <td>9941.0</td>\n",
       "      <td>19500000.0</td>\n",
       "      <td>6.2</td>\n",
       "      <td>6652996.0</td>\n",
       "      <td>2392.0</td>\n",
       "    </tr>\n",
       "  </tbody>\n",
       "</table>\n",
       "</div>"
      ],
      "text/plain": [
       "      production_budget  title_year  aspect_ratio  duration.1  \\\n",
       "1814         18000000.0      2013.0          2.35        98.0   \n",
       "1034         40000000.0      2015.0          2.35       110.0   \n",
       "896          45000000.0      2010.0          2.35       128.0   \n",
       "65          175000000.0      2009.0          2.35        94.0   \n",
       "1700         20000000.0      2015.0          2.35       111.0   \n",
       "\n",
       "      cast_total_facebook_likes       budget  imdb_score  opening_gross  \\\n",
       "1814                     1353.0   18000000.0         7.3       612064.0   \n",
       "1034                    12876.0   40000000.0         6.0      2469341.0   \n",
       "896                      2507.0   45000000.0         7.2       183009.0   \n",
       "65                       2579.0  175000000.0         6.5     59321095.0   \n",
       "1700                     9941.0   19500000.0         6.2      6652996.0   \n",
       "\n",
       "      screens  \n",
       "1814      6.0  \n",
       "1034   2797.0  \n",
       "896       4.0  \n",
       "65     4104.0  \n",
       "1700   2392.0  "
      ]
     },
     "execution_count": 7,
     "metadata": {},
     "output_type": "execute_result"
    }
   ],
   "source": [
    "X_train.head()"
   ]
  },
  {
   "cell_type": "code",
   "execution_count": 8,
   "metadata": {},
   "outputs": [],
   "source": [
    "X_train, X_test, y_train, y_test = train_test_split(X,y,random_state = 1)"
   ]
  },
  {
   "cell_type": "code",
   "execution_count": 9,
   "metadata": {},
   "outputs": [],
   "source": [
    "X2_train, X2_test, y2_train, y2_test = train_test_split(X,y,random_state = 1)"
   ]
  },
  {
   "cell_type": "code",
   "execution_count": 10,
   "metadata": {},
   "outputs": [
    {
     "data": {
      "text/plain": [
       "True"
      ]
     },
     "execution_count": 10,
     "metadata": {},
     "output_type": "execute_result"
    }
   ],
   "source": [
    "pd.DataFrame.equals(X_train,X2_train)"
   ]
  },
  {
   "cell_type": "markdown",
   "metadata": {},
   "source": [
    "prototipiar rapidamente, calculo final de performance"
   ]
  },
  {
   "cell_type": "code",
   "execution_count": 11,
   "metadata": {},
   "outputs": [],
   "source": [
    "from sklearn.model_selection import cross_val_score\n",
    "from sklearn.linear_model import Lasso"
   ]
  },
  {
   "cell_type": "code",
   "execution_count": 12,
   "metadata": {
    "scrolled": false
   },
   "outputs": [
    {
     "name": "stderr",
     "output_type": "stream",
     "text": [
      "C:\\Users\\S T E V E N\\AppData\\Roaming\\Python\\Python37\\site-packages\\sklearn\\linear_model\\_coordinate_descent.py:476: ConvergenceWarning: Objective did not converge. You might want to increase the number of iterations. Duality gap: 7.597525917312256e+16, tolerance: 1537125339230475.5\n",
      "  positive)\n",
      "C:\\Users\\S T E V E N\\AppData\\Roaming\\Python\\Python37\\site-packages\\sklearn\\linear_model\\_coordinate_descent.py:476: ConvergenceWarning: Objective did not converge. You might want to increase the number of iterations. Duality gap: 4.2948609445355336e+18, tolerance: 8334877530886792.0\n",
      "  positive)\n",
      "C:\\Users\\S T E V E N\\AppData\\Roaming\\Python\\Python37\\site-packages\\sklearn\\linear_model\\_coordinate_descent.py:476: ConvergenceWarning: Objective did not converge. You might want to increase the number of iterations. Duality gap: 2.43073153606289e+18, tolerance: 8543073557124827.0\n",
      "  positive)\n",
      "C:\\Users\\S T E V E N\\AppData\\Roaming\\Python\\Python37\\site-packages\\sklearn\\linear_model\\_coordinate_descent.py:476: ConvergenceWarning: Objective did not converge. You might want to increase the number of iterations. Duality gap: 4.4605602989350697e+18, tolerance: 8440297367866624.0\n",
      "  positive)\n"
     ]
    },
    {
     "data": {
      "text/plain": [
       "array([0.59316596, 0.68931527, 0.55383855, 0.18147236, 0.23040894])"
      ]
     },
     "execution_count": 12,
     "metadata": {},
     "output_type": "execute_result"
    }
   ],
   "source": [
    "scores = cross_val_score(Lasso(),X,y,cv=5, scoring='r2')\n",
    "scores"
   ]
  },
  {
   "cell_type": "code",
   "execution_count": 13,
   "metadata": {},
   "outputs": [
    {
     "data": {
      "text/plain": [
       "0.44964021745791777"
      ]
     },
     "execution_count": 13,
     "metadata": {},
     "output_type": "execute_result"
    }
   ],
   "source": [
    "scores.mean()"
   ]
  },
  {
   "cell_type": "code",
   "execution_count": 14,
   "metadata": {
    "scrolled": false
   },
   "outputs": [
    {
     "name": "stderr",
     "output_type": "stream",
     "text": [
      "C:\\Users\\S T E V E N\\AppData\\Roaming\\Python\\Python37\\site-packages\\sklearn\\linear_model\\_coordinate_descent.py:476: ConvergenceWarning: Objective did not converge. You might want to increase the number of iterations. Duality gap: 7.99644619806081e+17, tolerance: 7479170615554818.0\n",
      "  positive)\n"
     ]
    },
    {
     "data": {
      "text/plain": [
       "0.7926190294963362"
      ]
     },
     "execution_count": 14,
     "metadata": {},
     "output_type": "execute_result"
    }
   ],
   "source": [
    "Lasso().fit(X_train, y_train).score(X_test,y_test)"
   ]
  },
  {
   "cell_type": "markdown",
   "metadata": {},
   "source": [
    "El sesgo alto esta relacionado al undefiting  y una varianza alta esta ligada al overfiting"
   ]
  },
  {
   "cell_type": "code",
   "execution_count": 15,
   "metadata": {},
   "outputs": [],
   "source": [
    "#!pip install --upgrade scikit-learn"
   ]
  },
  {
   "cell_type": "markdown",
   "metadata": {},
   "source": [
    "tiempos de entrenamiento, prediccion, cuanto se demora en dar una prediccion, nos da el score de entrenamiento y de test"
   ]
  },
  {
   "cell_type": "code",
   "execution_count": 16,
   "metadata": {
    "scrolled": true
   },
   "outputs": [
    {
     "name": "stderr",
     "output_type": "stream",
     "text": [
      "C:\\Users\\S T E V E N\\AppData\\Roaming\\Python\\Python37\\site-packages\\sklearn\\linear_model\\_coordinate_descent.py:476: ConvergenceWarning: Objective did not converge. You might want to increase the number of iterations. Duality gap: 7.597525917312256e+16, tolerance: 1537125339230475.5\n",
      "  positive)\n",
      "C:\\Users\\S T E V E N\\AppData\\Roaming\\Python\\Python37\\site-packages\\sklearn\\linear_model\\_coordinate_descent.py:476: ConvergenceWarning: Objective did not converge. You might want to increase the number of iterations. Duality gap: 4.2948609445355336e+18, tolerance: 8334877530886792.0\n",
      "  positive)\n",
      "C:\\Users\\S T E V E N\\AppData\\Roaming\\Python\\Python37\\site-packages\\sklearn\\linear_model\\_coordinate_descent.py:476: ConvergenceWarning: Objective did not converge. You might want to increase the number of iterations. Duality gap: 2.43073153606289e+18, tolerance: 8543073557124827.0\n",
      "  positive)\n",
      "C:\\Users\\S T E V E N\\AppData\\Roaming\\Python\\Python37\\site-packages\\sklearn\\linear_model\\_coordinate_descent.py:476: ConvergenceWarning: Objective did not converge. You might want to increase the number of iterations. Duality gap: 4.4605602989350697e+18, tolerance: 8440297367866624.0\n",
      "  positive)\n"
     ]
    },
    {
     "data": {
      "text/plain": [
       "{'fit_time': array([0.18698931, 0.23198605, 0.03199458, 0.19098711, 0.19898987]),\n",
       " 'score_time': array([0.00999689, 0.00700283, 0.00599742, 0.00800467, 0.00499845]),\n",
       " 'test_score': array([0.59316596, 0.68931527, 0.55383855, 0.18147236, 0.23040894]),\n",
       " 'train_score': array([0.68988012, 0.77004932, 0.76604995, 0.76123379, 0.75837599])}"
      ]
     },
     "execution_count": 16,
     "metadata": {},
     "output_type": "execute_result"
    }
   ],
   "source": [
    "from sklearn.model_selection import cross_validate\n",
    "result = cross_validate(Lasso(),X,y,return_train_score = True, cv = 5)\n",
    "result"
   ]
  },
  {
   "cell_type": "markdown",
   "metadata": {},
   "source": [
    "###### Hay una gran diferencia entre los scores, eso quiere decir que hay una varianza alta"
   ]
  },
  {
   "cell_type": "code",
   "execution_count": 17,
   "metadata": {},
   "outputs": [
    {
     "name": "stdout",
     "output_type": "stream",
     "text": [
      "0.7491178363039036\n",
      "0.44964021745791777\n"
     ]
    }
   ],
   "source": [
    "test_scores = result['test_score']\n",
    "train_scores = result['train_score']\n",
    "print(np.mean(train_scores))\n",
    "print(np.mean(test_scores))"
   ]
  },
  {
   "cell_type": "markdown",
   "metadata": {},
   "source": [
    "Tenemos bias por lo que buscamos modelos mas complejos"
   ]
  },
  {
   "cell_type": "markdown",
   "metadata": {},
   "source": [
    "KNN"
   ]
  },
  {
   "cell_type": "code",
   "execution_count": 18,
   "metadata": {},
   "outputs": [],
   "source": [
    "from sklearn.neighbors  import KNeighborsRegressor"
   ]
  },
  {
   "cell_type": "code",
   "execution_count": 19,
   "metadata": {},
   "outputs": [
    {
     "data": {
      "text/plain": [
       "{'fit_time': array([0.06751966, 0.01999354, 0.03399539, 0.04599833, 0.03099585]),\n",
       " 'score_time': array([0.03100371, 0.2065134 , 0.20099092, 0.13698936, 0.13298917]),\n",
       " 'test_score': array([0.3647382 , 0.59274527, 0.21545625, 0.15143495, 0.25635077])}"
      ]
     },
     "execution_count": 19,
     "metadata": {},
     "output_type": "execute_result"
    }
   ],
   "source": [
    "cross_validate(KNeighborsRegressor(), X, y, cv=5)"
   ]
  },
  {
   "cell_type": "code",
   "execution_count": 20,
   "metadata": {},
   "outputs": [
    {
     "data": {
      "text/plain": [
       "{'fit_time': array([0.01562095, 0.01600313, 0.0156219 , 0.01023126, 0.02028894]),\n",
       " 'score_time': array([0.01958823, 0.0294342 , 0.02532411, 0.01217127, 0.0080595 ]),\n",
       " 'test_score': array([0.23553954, 0.61921355, 0.24881301, 0.1209604 , 0.2466995 ])}"
      ]
     },
     "execution_count": 20,
     "metadata": {},
     "output_type": "execute_result"
    }
   ],
   "source": [
    "cross_validate(KNeighborsRegressor(n_neighbors=10), X, y, cv=5)"
   ]
  },
  {
   "cell_type": "markdown",
   "metadata": {},
   "source": [
    "# Curva de validation"
   ]
  },
  {
   "cell_type": "code",
   "execution_count": 21,
   "metadata": {},
   "outputs": [],
   "source": [
    "from sklearn.model_selection import validation_curve"
   ]
  },
  {
   "cell_type": "code",
   "execution_count": 23,
   "metadata": {},
   "outputs": [],
   "source": [
    "#Cantidad de vecinos\n",
    "n = np.arange(2,50,2)\n",
    "#Entrenando 24 modelos"
   ]
  },
  {
   "cell_type": "code",
   "execution_count": 26,
   "metadata": {},
   "outputs": [],
   "source": [
    "train_scores, test_scores = validation_curve(KNeighborsRegressor(),X,y,param_name='n_neighbors', param_range=n,cv=5)"
   ]
  },
  {
   "cell_type": "code",
   "execution_count": 28,
   "metadata": {},
   "outputs": [
    {
     "data": {
      "text/plain": [
       "array([0.86831591, 0.79120817, 0.7593398 , 0.7498298 , 0.74238245,\n",
       "       0.73284018, 0.72586058, 0.71779833, 0.71281982, 0.70976325,\n",
       "       0.70723469, 0.70502429, 0.70174649, 0.69741543, 0.69379214,\n",
       "       0.69163113, 0.68955146, 0.6862285 , 0.68321376, 0.68018032,\n",
       "       0.67885534, 0.67522056, 0.67135123, 0.66953759])"
      ]
     },
     "execution_count": 28,
     "metadata": {},
     "output_type": "execute_result"
    }
   ],
   "source": [
    "np.mean(train_scores, axis = 1)"
   ]
  },
  {
   "cell_type": "markdown",
   "metadata": {},
   "source": [
    "El alfa le dara mas libertad al modelo, si el valor es alto mas simplifica el modelo y si el valor es bajo complejisa  el modelo"
   ]
  },
  {
   "cell_type": "code",
   "execution_count": 32,
   "metadata": {},
   "outputs": [
    {
     "data": {
      "text/plain": [
       "Lasso(alpha=1.0, copy_X=True, fit_intercept=True, max_iter=1000,\n",
       "      normalize=False, positive=False, precompute=False, random_state=None,\n",
       "      selection='cyclic', tol=0.0001, warm_start=False)"
      ]
     },
     "execution_count": 32,
     "metadata": {},
     "output_type": "execute_result"
    }
   ],
   "source": [
    "Lasso()"
   ]
  },
  {
   "cell_type": "code",
   "execution_count": 34,
   "metadata": {},
   "outputs": [
    {
     "data": {
      "text/plain": [
       "([<matplotlib.axis.XTick at 0x2319bb62e10>,\n",
       "  <matplotlib.axis.XTick at 0x2319bb62320>,\n",
       "  <matplotlib.axis.XTick at 0x2319bb620b8>,\n",
       "  <matplotlib.axis.XTick at 0x2319bb96358>,\n",
       "  <matplotlib.axis.XTick at 0x2319bb96828>,\n",
       "  <matplotlib.axis.XTick at 0x2319bb96cf8>,\n",
       "  <matplotlib.axis.XTick at 0x2319bb9b2b0>,\n",
       "  <matplotlib.axis.XTick at 0x2319bb9b828>,\n",
       "  <matplotlib.axis.XTick at 0x2319bb9bda0>,\n",
       "  <matplotlib.axis.XTick at 0x2319bb9b908>,\n",
       "  <matplotlib.axis.XTick at 0x2319bb968d0>,\n",
       "  <matplotlib.axis.XTick at 0x2319bba0668>,\n",
       "  <matplotlib.axis.XTick at 0x2319bba0be0>,\n",
       "  <matplotlib.axis.XTick at 0x2319bba9198>,\n",
       "  <matplotlib.axis.XTick at 0x2319bba9710>,\n",
       "  <matplotlib.axis.XTick at 0x2319bba9c88>,\n",
       "  <matplotlib.axis.XTick at 0x2319bbb1240>,\n",
       "  <matplotlib.axis.XTick at 0x2319bbb17b8>,\n",
       "  <matplotlib.axis.XTick at 0x2319bba9278>,\n",
       "  <matplotlib.axis.XTick at 0x2319bba0470>,\n",
       "  <matplotlib.axis.XTick at 0x2319bbb1898>,\n",
       "  <matplotlib.axis.XTick at 0x2319bbb7278>,\n",
       "  <matplotlib.axis.XTick at 0x2319bbb77f0>,\n",
       "  <matplotlib.axis.XTick at 0x2319bbb7d68>],\n",
       " <a list of 24 Text xticklabel objects>)"
      ]
     },
     "execution_count": 34,
     "metadata": {},
     "output_type": "execute_result"
    },
    {
     "data": {
      "image/png": "[encoded data removed]",
      "text/plain": [
       "<Figure size 432x288 with 1 Axes>"
      ]
     },
     "metadata": {
      "needs_background": "light"
     },
     "output_type": "display_data"
    }
   ],
   "source": [
    "plt.plot(np.mean(train_scores, axis = 1))\n",
    "plt.plot(np.mean(test_scores, axis = 1))\n",
    "plt.xticks(np.arange(24),n)"
   ]
  },
  {
   "cell_type": "markdown",
   "metadata": {},
   "source": [
    "El mejor parametros vecinos es 6"
   ]
  },
  {
   "cell_type": "markdown",
   "metadata": {},
   "source": [
    "# Curva de aprendizaje"
   ]
  },
  {
   "cell_type": "code",
   "execution_count": 36,
   "metadata": {},
   "outputs": [],
   "source": [
    "from sklearn.model_selection import learning_curve"
   ]
  },
  {
   "cell_type": "markdown",
   "metadata": {},
   "source": [
    "- cantidad con la que se entreno el modelo 177,  577,  976, 1376, 1776\n",
    "- "
   ]
  },
  {
   "cell_type": "code",
   "execution_count": 40,
   "metadata": {},
   "outputs": [],
   "source": [
    "cl =  learning_curve(KNeighborsRegressor(n_neighbors=6), X,y,cv = 5)\n",
    "samples, train, test = cl[0], cl[1], cl[2]"
   ]
  },
  {
   "cell_type": "code",
   "execution_count": 41,
   "metadata": {},
   "outputs": [
    {
     "data": {
      "text/plain": [
       "[<matplotlib.lines.Line2D at 0x2319bbbde80>]"
      ]
     },
     "execution_count": 41,
     "metadata": {},
     "output_type": "execute_result"
    },
    {
     "data": {
      "image/png": "[encoded data removed]",
      "text/plain": [
       "<Figure size 432x288 with 1 Axes>"
      ]
     },
     "metadata": {
      "needs_background": "light"
     },
     "output_type": "display_data"
    }
   ],
   "source": [
    "plt.plot(samples, np.mean(train,axis=1))\n",
    "plt.plot(samples, np.mean(test,axis=1))"
   ]
  },
  {
   "cell_type": "code",
   "execution_count": 42,
   "metadata": {},
   "outputs": [
    {
     "data": {
      "text/plain": [
       "[<matplotlib.lines.Line2D at 0x2319bc6c278>]"
      ]
     },
     "execution_count": 42,
     "metadata": {},
     "output_type": "execute_result"
    },
    {
     "data": {
      "image/png": "[encoded data removed]",
      "text/plain": [
       "<Figure size 432x288 with 1 Axes>"
      ]
     },
     "metadata": {
      "needs_background": "light"
     },
     "output_type": "display_data"
    }
   ],
   "source": [
    "plt.plot(samples[1:], np.mean(train,axis=1)[1:])\n",
    "plt.plot(samples[1:], np.mean(test,axis=1)[1:])"
   ]
  },
  {
   "cell_type": "markdown",
   "metadata": {},
   "source": [
    "Si la curva no es una asintota, significa que el modelo puede seguir aprendiendo, si el modelo es una asintota significa que el modelo no aprendera mas"
   ]
  },
  {
   "cell_type": "markdown",
   "metadata": {},
   "source": [
    "Varianza alta :<br>\n",
    "\n",
    "- Conseguir más ejemplos.\n",
    "- Reducir cantidad de features.\n",
    "- Aumentar coeficiente de regularización(alpha<)\n",
    "\n",
    "Bias Alto :<br>\n",
    "- Más features.\n",
    "- Modelo más complejo.\n",
    "Mal resultado general :<br>\n",
    "probar otro algoritmo / familia de modelos, quizás las hipótesis del modelo no son cumplidas por el dataset."
   ]
  },
  {
   "cell_type": "markdown",
   "metadata": {},
   "source": [
    "El K_Learn es muy bueno para ML pero tiene la maldición de la sobredimencionalidad y en este caso consume muchos datos, por lo tanto no es aplicable en todos los casos."
   ]
  },
  {
   "cell_type": "code",
   "execution_count": null,
   "metadata": {},
   "outputs": [],
   "source": []
  },
  {
   "cell_type": "code",
   "execution_count": null,
   "metadata": {},
   "outputs": [],
   "source": []
  },
  {
   "cell_type": "code",
   "execution_count": null,
   "metadata": {},
   "outputs": [],
   "source": []
  },
  {
   "cell_type": "code",
   "execution_count": null,
   "metadata": {},
   "outputs": [],
   "source": []
  }
 ],
 "metadata": {
  "kernelspec": {
   "display_name": "Python 3",
   "language": "python",
   "name": "python3"
  },
  "language_info": {
   "codemirror_mode": {
    "name": "ipython",
    "version": 3
   },
   "file_extension": ".py",
   "mimetype": "text/x-python",
   "name": "python",
   "nbconvert_exporter": "python",
   "pygments_lexer": "ipython3",
   "version": "3.7.3"
  }
 },
 "nbformat": 4,
 "nbformat_minor": 2
}
