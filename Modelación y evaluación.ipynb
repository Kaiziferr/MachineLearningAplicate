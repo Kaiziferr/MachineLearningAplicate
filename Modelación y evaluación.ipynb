{
 "cells": [
  {
   "cell_type": "code",
   "execution_count": 1,
   "metadata": {},
   "outputs": [],
   "source": [
    "import pandas as pd\n",
    "import numpy as np\n",
    "import seaborn as sb\n",
    "import matplotlib.pyplot as plt\n",
    "from sklearn.model_selection import train_test_split\n",
    "from sklearn.linear_model import Lasso"
   ]
  },
  {
   "cell_type": "markdown",
   "metadata": {},
   "source": [
    "# Modelación y evaluación"
   ]
  },
  {
   "cell_type": "code",
   "execution_count": 2,
   "metadata": {},
   "outputs": [
    {
     "data": {
      "text/html": [
       "<div>\n",
       "<style scoped>\n",
       "    .dataframe tbody tr th:only-of-type {\n",
       "        vertical-align: middle;\n",
       "    }\n",
       "\n",
       "    .dataframe tbody tr th {\n",
       "        vertical-align: top;\n",
       "    }\n",
       "\n",
       "    .dataframe thead th {\n",
       "        text-align: right;\n",
       "    }\n",
       "</style>\n",
       "<table border=\"1\" class=\"dataframe\">\n",
       "  <thead>\n",
       "    <tr style=\"text-align: right;\">\n",
       "      <th></th>\n",
       "      <th>production_budget</th>\n",
       "      <th>worldwide_gross</th>\n",
       "      <th>title_year</th>\n",
       "      <th>aspect_ratio</th>\n",
       "      <th>duration</th>\n",
       "      <th>cast_total_facebook_likes</th>\n",
       "      <th>budget</th>\n",
       "      <th>imdb_score</th>\n",
       "    </tr>\n",
       "  </thead>\n",
       "  <tbody>\n",
       "    <tr>\n",
       "      <th>0</th>\n",
       "      <td>425000000.0</td>\n",
       "      <td>2.783919e+09</td>\n",
       "      <td>2009.000000</td>\n",
       "      <td>1.780000</td>\n",
       "      <td>178.000000</td>\n",
       "      <td>4834.0</td>\n",
       "      <td>2.370000e+08</td>\n",
       "      <td>7.9</td>\n",
       "    </tr>\n",
       "    <tr>\n",
       "      <th>1</th>\n",
       "      <td>306000000.0</td>\n",
       "      <td>2.058662e+09</td>\n",
       "      <td>2002.130733</td>\n",
       "      <td>2.126976</td>\n",
       "      <td>108.577186</td>\n",
       "      <td>143.0</td>\n",
       "      <td>4.045539e+07</td>\n",
       "      <td>7.1</td>\n",
       "    </tr>\n",
       "    <tr>\n",
       "      <th>2</th>\n",
       "      <td>300000000.0</td>\n",
       "      <td>9.634204e+08</td>\n",
       "      <td>2007.000000</td>\n",
       "      <td>2.350000</td>\n",
       "      <td>169.000000</td>\n",
       "      <td>48350.0</td>\n",
       "      <td>3.000000e+08</td>\n",
       "      <td>7.1</td>\n",
       "    </tr>\n",
       "    <tr>\n",
       "      <th>3</th>\n",
       "      <td>300000000.0</td>\n",
       "      <td>8.796209e+08</td>\n",
       "      <td>2015.000000</td>\n",
       "      <td>2.350000</td>\n",
       "      <td>148.000000</td>\n",
       "      <td>11700.0</td>\n",
       "      <td>2.450000e+08</td>\n",
       "      <td>6.8</td>\n",
       "    </tr>\n",
       "    <tr>\n",
       "      <th>4</th>\n",
       "      <td>275000000.0</td>\n",
       "      <td>1.084439e+09</td>\n",
       "      <td>2012.000000</td>\n",
       "      <td>2.350000</td>\n",
       "      <td>164.000000</td>\n",
       "      <td>106759.0</td>\n",
       "      <td>2.500000e+08</td>\n",
       "      <td>8.5</td>\n",
       "    </tr>\n",
       "  </tbody>\n",
       "</table>\n",
       "</div>"
      ],
      "text/plain": [
       "   production_budget  worldwide_gross   title_year  aspect_ratio    duration  \\\n",
       "0        425000000.0     2.783919e+09  2009.000000      1.780000  178.000000   \n",
       "1        306000000.0     2.058662e+09  2002.130733      2.126976  108.577186   \n",
       "2        300000000.0     9.634204e+08  2007.000000      2.350000  169.000000   \n",
       "3        300000000.0     8.796209e+08  2015.000000      2.350000  148.000000   \n",
       "4        275000000.0     1.084439e+09  2012.000000      2.350000  164.000000   \n",
       "\n",
       "   cast_total_facebook_likes        budget  imdb_score  \n",
       "0                     4834.0  2.370000e+08         7.9  \n",
       "1                      143.0  4.045539e+07         7.1  \n",
       "2                    48350.0  3.000000e+08         7.1  \n",
       "3                    11700.0  2.450000e+08         6.8  \n",
       "4                   106759.0  2.500000e+08         8.5  "
      ]
     },
     "execution_count": 2,
     "metadata": {},
     "output_type": "execute_result"
    }
   ],
   "source": [
    "#Leemos nuestros datos de entrenamiento\n",
    "x = pd.read_csv('dataEntreno.csv')\n",
    "x.head()"
   ]
  },
  {
   "cell_type": "code",
   "execution_count": 3,
   "metadata": {},
   "outputs": [
    {
     "data": {
      "text/plain": [
       "0    2.783919e+09\n",
       "1    2.058662e+09\n",
       "2    9.634204e+08\n",
       "3    8.796209e+08\n",
       "4    1.084439e+09\n",
       "Name: worldwide_gross, dtype: float64"
      ]
     },
     "execution_count": 3,
     "metadata": {},
     "output_type": "execute_result"
    }
   ],
   "source": [
    "# Creamos nuestro target\n",
    "y = x['worldwide_gross']\n",
    "y.head()"
   ]
  },
  {
   "cell_type": "code",
   "execution_count": 4,
   "metadata": {},
   "outputs": [],
   "source": [
    "x = x.drop('worldwide_gross',axis=1)"
   ]
  },
  {
   "cell_type": "code",
   "execution_count": 5,
   "metadata": {},
   "outputs": [
    {
     "data": {
      "text/html": [
       "<div>\n",
       "<style scoped>\n",
       "    .dataframe tbody tr th:only-of-type {\n",
       "        vertical-align: middle;\n",
       "    }\n",
       "\n",
       "    .dataframe tbody tr th {\n",
       "        vertical-align: top;\n",
       "    }\n",
       "\n",
       "    .dataframe thead th {\n",
       "        text-align: right;\n",
       "    }\n",
       "</style>\n",
       "<table border=\"1\" class=\"dataframe\">\n",
       "  <thead>\n",
       "    <tr style=\"text-align: right;\">\n",
       "      <th></th>\n",
       "      <th>production_budget</th>\n",
       "      <th>title_year</th>\n",
       "      <th>aspect_ratio</th>\n",
       "      <th>duration</th>\n",
       "      <th>cast_total_facebook_likes</th>\n",
       "      <th>budget</th>\n",
       "      <th>imdb_score</th>\n",
       "    </tr>\n",
       "  </thead>\n",
       "  <tbody>\n",
       "    <tr>\n",
       "      <th>0</th>\n",
       "      <td>425000000.0</td>\n",
       "      <td>2009.000000</td>\n",
       "      <td>1.780000</td>\n",
       "      <td>178.000000</td>\n",
       "      <td>4834.0</td>\n",
       "      <td>2.370000e+08</td>\n",
       "      <td>7.9</td>\n",
       "    </tr>\n",
       "    <tr>\n",
       "      <th>1</th>\n",
       "      <td>306000000.0</td>\n",
       "      <td>2002.130733</td>\n",
       "      <td>2.126976</td>\n",
       "      <td>108.577186</td>\n",
       "      <td>143.0</td>\n",
       "      <td>4.045539e+07</td>\n",
       "      <td>7.1</td>\n",
       "    </tr>\n",
       "    <tr>\n",
       "      <th>2</th>\n",
       "      <td>300000000.0</td>\n",
       "      <td>2007.000000</td>\n",
       "      <td>2.350000</td>\n",
       "      <td>169.000000</td>\n",
       "      <td>48350.0</td>\n",
       "      <td>3.000000e+08</td>\n",
       "      <td>7.1</td>\n",
       "    </tr>\n",
       "    <tr>\n",
       "      <th>3</th>\n",
       "      <td>300000000.0</td>\n",
       "      <td>2015.000000</td>\n",
       "      <td>2.350000</td>\n",
       "      <td>148.000000</td>\n",
       "      <td>11700.0</td>\n",
       "      <td>2.450000e+08</td>\n",
       "      <td>6.8</td>\n",
       "    </tr>\n",
       "    <tr>\n",
       "      <th>4</th>\n",
       "      <td>275000000.0</td>\n",
       "      <td>2012.000000</td>\n",
       "      <td>2.350000</td>\n",
       "      <td>164.000000</td>\n",
       "      <td>106759.0</td>\n",
       "      <td>2.500000e+08</td>\n",
       "      <td>8.5</td>\n",
       "    </tr>\n",
       "  </tbody>\n",
       "</table>\n",
       "</div>"
      ],
      "text/plain": [
       "   production_budget   title_year  aspect_ratio    duration  \\\n",
       "0        425000000.0  2009.000000      1.780000  178.000000   \n",
       "1        306000000.0  2002.130733      2.126976  108.577186   \n",
       "2        300000000.0  2007.000000      2.350000  169.000000   \n",
       "3        300000000.0  2015.000000      2.350000  148.000000   \n",
       "4        275000000.0  2012.000000      2.350000  164.000000   \n",
       "\n",
       "   cast_total_facebook_likes        budget  imdb_score  \n",
       "0                     4834.0  2.370000e+08         7.9  \n",
       "1                      143.0  4.045539e+07         7.1  \n",
       "2                    48350.0  3.000000e+08         7.1  \n",
       "3                    11700.0  2.450000e+08         6.8  \n",
       "4                   106759.0  2.500000e+08         8.5  "
      ]
     },
     "execution_count": 5,
     "metadata": {},
     "output_type": "execute_result"
    }
   ],
   "source": [
    "x.head()"
   ]
  },
  {
   "cell_type": "markdown",
   "metadata": {},
   "source": [
    "#### Modelo simple de regresión (lasso)"
   ]
  },
  {
   "cell_type": "code",
   "execution_count": 6,
   "metadata": {},
   "outputs": [],
   "source": [
    "#Definimos nuestras variables de entrenamiento y de pruebas\n",
    "x_train, x_test, y_train, y_test = train_test_split(x,y)"
   ]
  },
  {
   "cell_type": "code",
   "execution_count": 7,
   "metadata": {},
   "outputs": [
    {
     "name": "stdout",
     "output_type": "stream",
     "text": [
      "4104\n",
      "3078\n",
      "1026\n"
     ]
    }
   ],
   "source": [
    "print(len(x))\n",
    "#75% de entrenamiento\n",
    "print(len(x_train))\n",
    "#25% de pruebas\n",
    "print(len(x_test))"
   ]
  },
  {
   "cell_type": "code",
   "execution_count": 8,
   "metadata": {},
   "outputs": [
    {
     "data": {
      "text/html": [
       "<div>\n",
       "<style scoped>\n",
       "    .dataframe tbody tr th:only-of-type {\n",
       "        vertical-align: middle;\n",
       "    }\n",
       "\n",
       "    .dataframe tbody tr th {\n",
       "        vertical-align: top;\n",
       "    }\n",
       "\n",
       "    .dataframe thead th {\n",
       "        text-align: right;\n",
       "    }\n",
       "</style>\n",
       "<table border=\"1\" class=\"dataframe\">\n",
       "  <thead>\n",
       "    <tr style=\"text-align: right;\">\n",
       "      <th></th>\n",
       "      <th>production_budget</th>\n",
       "      <th>title_year</th>\n",
       "      <th>aspect_ratio</th>\n",
       "      <th>duration</th>\n",
       "      <th>cast_total_facebook_likes</th>\n",
       "      <th>budget</th>\n",
       "      <th>imdb_score</th>\n",
       "    </tr>\n",
       "  </thead>\n",
       "  <tbody>\n",
       "    <tr>\n",
       "      <th>0</th>\n",
       "      <td>425000000.0</td>\n",
       "      <td>2009.000000</td>\n",
       "      <td>1.780000</td>\n",
       "      <td>178.000000</td>\n",
       "      <td>4834.0</td>\n",
       "      <td>2.370000e+08</td>\n",
       "      <td>7.9</td>\n",
       "    </tr>\n",
       "    <tr>\n",
       "      <th>1</th>\n",
       "      <td>306000000.0</td>\n",
       "      <td>2002.130733</td>\n",
       "      <td>2.126976</td>\n",
       "      <td>108.577186</td>\n",
       "      <td>143.0</td>\n",
       "      <td>4.045539e+07</td>\n",
       "      <td>7.1</td>\n",
       "    </tr>\n",
       "  </tbody>\n",
       "</table>\n",
       "</div>"
      ],
      "text/plain": [
       "   production_budget   title_year  aspect_ratio    duration  \\\n",
       "0        425000000.0  2009.000000      1.780000  178.000000   \n",
       "1        306000000.0  2002.130733      2.126976  108.577186   \n",
       "\n",
       "   cast_total_facebook_likes        budget  imdb_score  \n",
       "0                     4834.0  2.370000e+08         7.9  \n",
       "1                      143.0  4.045539e+07         7.1  "
      ]
     },
     "execution_count": 8,
     "metadata": {},
     "output_type": "execute_result"
    }
   ],
   "source": [
    "x.head(2)"
   ]
  },
  {
   "cell_type": "code",
   "execution_count": 9,
   "metadata": {},
   "outputs": [],
   "source": [
    "# Instanciamos nuestro estimador\n",
    "model = Lasso()"
   ]
  },
  {
   "cell_type": "code",
   "execution_count": 10,
   "metadata": {},
   "outputs": [
    {
     "name": "stderr",
     "output_type": "stream",
     "text": [
      "C:\\Users\\S T E V E N\\AppData\\Roaming\\Python\\Python37\\site-packages\\sklearn\\linear_model\\_coordinate_descent.py:476: ConvergenceWarning: Objective did not converge. You might want to increase the number of iterations. Duality gap: 5.243750480756982e+17, tolerance: 9007907601707836.0\n",
      "  positive)\n"
     ]
    },
    {
     "data": {
      "text/plain": [
       "Lasso(alpha=1.0, copy_X=True, fit_intercept=True, max_iter=1000,\n",
       "      normalize=False, positive=False, precompute=False, random_state=None,\n",
       "      selection='cyclic', tol=0.0001, warm_start=False)"
      ]
     },
     "execution_count": 10,
     "metadata": {},
     "output_type": "execute_result"
    }
   ],
   "source": [
    "#Iniciamos el entreno de nuestro modelo\n",
    "model.fit(x_train,y_train)"
   ]
  },
  {
   "cell_type": "code",
   "execution_count": 11,
   "metadata": {},
   "outputs": [
    {
     "data": {
      "text/plain": [
       "(1026,)"
      ]
     },
     "execution_count": 11,
     "metadata": {},
     "output_type": "execute_result"
    }
   ],
   "source": [
    "#Predecimos con nuestros datos de prueba\n",
    "predicted = model.predict(x_test)\n",
    "predicted.shape"
   ]
  },
  {
   "cell_type": "code",
   "execution_count": 12,
   "metadata": {},
   "outputs": [],
   "source": [
    "# Graficar en Jupyter\n",
    "%matplotlib inline"
   ]
  },
  {
   "cell_type": "code",
   "execution_count": 13,
   "metadata": {},
   "outputs": [
    {
     "data": {
      "image/png": "[encoded data removed]",
      "text/plain": [
       "<Figure size 432x288 with 1 Axes>"
      ]
     },
     "metadata": {
      "needs_background": "light"
     },
     "output_type": "display_data"
    }
   ],
   "source": [
    "plt.hist([predicted,y_test]);"
   ]
  },
  {
   "cell_type": "markdown",
   "metadata": {},
   "source": [
    "#### Evaluación del comportamiento de nuestro modelo"
   ]
  },
  {
   "cell_type": "code",
   "execution_count": 14,
   "metadata": {},
   "outputs": [
    {
     "data": {
      "text/plain": [
       "0.5861140868001558"
      ]
     },
     "execution_count": 14,
     "metadata": {},
     "output_type": "execute_result"
    }
   ],
   "source": [
    "#Miramos el score\n",
    "model.score(x_test,y_test)"
   ]
  },
  {
   "cell_type": "markdown",
   "metadata": {},
   "source": [
    "Un buen score R2 es importante para una regresión. Pero no lo es todo. De forma general los scores hay que complementarlos con visualizaciones de los datos ya que una métrica no logra siempre encodear todas las caracteristicas de una distribución de probabilidades."
   ]
  },
  {
   "cell_type": "code",
   "execution_count": 15,
   "metadata": {},
   "outputs": [],
   "source": [
    "#Miramos los residuos\n",
    "residuals = y_test - predicted"
   ]
  },
  {
   "cell_type": "code",
   "execution_count": 16,
   "metadata": {},
   "outputs": [
    {
     "name": "stdout",
     "output_type": "stream",
     "text": [
      "(1026,) (1026,) (1026,)\n"
     ]
    }
   ],
   "source": [
    "print(residuals.shape,y_test.shape,predicted.shape)"
   ]
  },
  {
   "cell_type": "code",
   "execution_count": 17,
   "metadata": {
    "scrolled": true
   },
   "outputs": [
    {
     "data": {
      "text/plain": [
       "False"
      ]
     },
     "execution_count": 17,
     "metadata": {},
     "output_type": "execute_result"
    }
   ],
   "source": [
    "np.array_equal(residuals,y_test)"
   ]
  },
  {
   "cell_type": "code",
   "execution_count": 18,
   "metadata": {},
   "outputs": [
    {
     "data": {
      "text/plain": [
       "False"
      ]
     },
     "execution_count": 18,
     "metadata": {},
     "output_type": "execute_result"
    }
   ],
   "source": [
    "np.array_equal(y_test,predicted)"
   ]
  },
  {
   "cell_type": "code",
   "execution_count": 19,
   "metadata": {},
   "outputs": [
    {
     "data": {
      "text/plain": [
       "<matplotlib.collections.PathCollection at 0x27ef6f33d68>"
      ]
     },
     "execution_count": 19,
     "metadata": {},
     "output_type": "execute_result"
    },
    {
     "data": {
      "image/png": "[encoded data removed]",
      "text/plain": [
       "<Figure size 432x288 with 1 Axes>"
      ]
     },
     "metadata": {
      "needs_background": "light"
     },
     "output_type": "display_data"
    }
   ],
   "source": [
    "plt.scatter(y_test,residuals)"
   ]
  },
  {
   "cell_type": "code",
   "execution_count": 20,
   "metadata": {},
   "outputs": [],
   "source": [
    "# Errores en porcentaje\n",
    "residuals = np.abs(residuals) / y_test"
   ]
  },
  {
   "cell_type": "code",
   "execution_count": 21,
   "metadata": {
    "scrolled": true
   },
   "outputs": [
    {
     "data": {
      "text/plain": [
       "<matplotlib.collections.PathCollection at 0x27ef6fb1588>"
      ]
     },
     "execution_count": 21,
     "metadata": {},
     "output_type": "execute_result"
    },
    {
     "data": {
      "image/png": "[encoded data removed]",
      "text/plain": [
       "<Figure size 432x288 with 1 Axes>"
      ]
     },
     "metadata": {
      "needs_background": "light"
     },
     "output_type": "display_data"
    }
   ],
   "source": [
    "plt.scatter(y_test,residuals)"
   ]
  },
  {
   "cell_type": "code",
   "execution_count": 22,
   "metadata": {},
   "outputs": [],
   "source": [
    "#Como hay residuos muy alejados usare una escala logaritmica\n",
    "residuals =np.log(residuals)"
   ]
  },
  {
   "cell_type": "code",
   "execution_count": 23,
   "metadata": {},
   "outputs": [
    {
     "data": {
      "text/plain": [
       "<matplotlib.collections.PathCollection at 0x27ef70068d0>"
      ]
     },
     "execution_count": 23,
     "metadata": {},
     "output_type": "execute_result"
    },
    {
     "data": {
      "image/png": "[encoded data removed]",
      "text/plain": [
       "<Figure size 432x288 with 1 Axes>"
      ]
     },
     "metadata": {
      "needs_background": "light"
     },
     "output_type": "display_data"
    }
   ],
   "source": [
    "plt.scatter(y_test,residuals)"
   ]
  },
  {
   "cell_type": "code",
   "execution_count": 24,
   "metadata": {},
   "outputs": [
    {
     "name": "stderr",
     "output_type": "stream",
     "text": [
      "C:\\ProgramData\\Anaconda3\\lib\\site-packages\\ipykernel_launcher.py:3: MatplotlibDeprecationWarning: \n",
      "The 'normed' kwarg was deprecated in Matplotlib 2.1 and will be removed in 3.1. Use 'density' instead.\n",
      "  This is separate from the ipykernel package so we can avoid doing imports until\n"
     ]
    },
    {
     "data": {
      "text/plain": [
       "(array([9.74658869e-04, 9.74658869e-04, 9.74658869e-04, 9.74658869e-04,\n",
       "        9.74658869e-04, 9.74658869e-04, 1.94931774e-03, 3.89863548e-03,\n",
       "        3.89863548e-03, 3.89863548e-03, 3.89863548e-03, 4.87329435e-03,\n",
       "        5.84795322e-03, 5.84795322e-03, 5.84795322e-03, 7.79727096e-03,\n",
       "        8.77192982e-03, 1.07212476e-02, 1.36452242e-02, 1.55945419e-02,\n",
       "        1.94931774e-02, 2.04678363e-02, 2.72904483e-02, 3.21637427e-02,\n",
       "        4.19103314e-02, 4.87329435e-02, 5.55555556e-02, 6.43274854e-02,\n",
       "        7.30994152e-02, 8.28460039e-02, 1.02339181e-01, 1.18908382e-01,\n",
       "        1.45224172e-01, 1.79337232e-01, 2.16374269e-01, 2.59259259e-01,\n",
       "        3.07017544e-01, 3.58674464e-01, 4.09356725e-01, 4.62962963e-01,\n",
       "        5.06822612e-01, 5.48732943e-01, 5.81871345e-01, 6.05263158e-01,\n",
       "        6.36452242e-01, 6.62768031e-01, 6.97855750e-01, 7.23196881e-01,\n",
       "        7.38791423e-01, 7.60233918e-01, 7.80701754e-01, 7.97270955e-01,\n",
       "        8.12865497e-01, 8.27485380e-01, 8.40155945e-01, 8.50877193e-01,\n",
       "        8.63547758e-01, 8.71345029e-01, 8.80116959e-01, 8.95711501e-01,\n",
       "        9.05458090e-01, 9.12280702e-01, 9.17153996e-01, 9.21052632e-01,\n",
       "        9.26900585e-01, 9.31773879e-01, 9.36647173e-01, 9.42495127e-01,\n",
       "        9.46393762e-01, 9.48343080e-01, 9.53216374e-01, 9.57115010e-01,\n",
       "        9.57115010e-01, 9.61013645e-01, 9.63937622e-01, 9.68810916e-01,\n",
       "        9.71734893e-01, 9.75633528e-01, 9.77582846e-01, 9.77582846e-01,\n",
       "        9.78557505e-01, 9.82456140e-01, 9.85380117e-01, 9.86354776e-01,\n",
       "        9.88304094e-01, 9.88304094e-01, 9.89278752e-01, 9.91228070e-01,\n",
       "        9.93177388e-01, 9.94152047e-01, 9.95126706e-01, 9.96101365e-01,\n",
       "        9.96101365e-01, 9.97076023e-01, 9.97076023e-01, 9.97076023e-01,\n",
       "        9.97076023e-01, 9.97076023e-01, 9.98050682e-01, 1.00000000e+00]),\n",
       " array([-7.86242716, -7.66958142, -7.47673569, -7.28388995, -7.09104421,\n",
       "        -6.89819847, -6.70535273, -6.51250699, -6.31966125, -6.12681552,\n",
       "        -5.93396978, -5.74112404, -5.5482783 , -5.35543256, -5.16258682,\n",
       "        -4.96974108, -4.77689535, -4.58404961, -4.39120387, -4.19835813,\n",
       "        -4.00551239, -3.81266665, -3.61982091, -3.42697518, -3.23412944,\n",
       "        -3.0412837 , -2.84843796, -2.65559222, -2.46274648, -2.26990074,\n",
       "        -2.077055  , -1.88420927, -1.69136353, -1.49851779, -1.30567205,\n",
       "        -1.11282631, -0.91998057, -0.72713483, -0.5342891 , -0.34144336,\n",
       "        -0.14859762,  0.04424812,  0.23709386,  0.4299396 ,  0.62278534,\n",
       "         0.81563107,  1.00847681,  1.20132255,  1.39416829,  1.58701403,\n",
       "         1.77985977,  1.97270551,  2.16555124,  2.35839698,  2.55124272,\n",
       "         2.74408846,  2.9369342 ,  3.12977994,  3.32262568,  3.51547141,\n",
       "         3.70831715,  3.90116289,  4.09400863,  4.28685437,  4.47970011,\n",
       "         4.67254585,  4.86539158,  5.05823732,  5.25108306,  5.4439288 ,\n",
       "         5.63677454,  5.82962028,  6.02246602,  6.21531175,  6.40815749,\n",
       "         6.60100323,  6.79384897,  6.98669471,  7.17954045,  7.37238619,\n",
       "         7.56523192,  7.75807766,  7.9509234 ,  8.14376914,  8.33661488,\n",
       "         8.52946062,  8.72230636,  8.91515209,  9.10799783,  9.30084357,\n",
       "         9.49368931,  9.68653505,  9.87938079, 10.07222653, 10.26507226,\n",
       "        10.457918  , 10.65076374, 10.84360948, 11.03645522, 11.22930096,\n",
       "        11.4221467 ]),\n",
       " <a list of 1 Patch objects>)"
      ]
     },
     "execution_count": 24,
     "metadata": {},
     "output_type": "execute_result"
    },
    {
     "data": {
      "image/png": "[encoded data removed]",
      "text/plain": [
       "<Figure size 432x288 with 1 Axes>"
      ]
     },
     "metadata": {
      "needs_background": "light"
     },
     "output_type": "display_data"
    }
   ],
   "source": [
    "# Hacemos una evaluacion de errores Diagrama de escala acumulativa de distribucion de errores\n",
    "# haremos un histograma, normalizado\n",
    "plt.hist(residuals,bins=100,normed=1,histtype='step', cumulative=True)\n",
    "# para un 45% de nuestros datos hay 5% de error"
   ]
  },
  {
   "cell_type": "code",
   "execution_count": 25,
   "metadata": {},
   "outputs": [
    {
     "name": "stderr",
     "output_type": "stream",
     "text": [
      "C:\\ProgramData\\Anaconda3\\lib\\site-packages\\ipykernel_launcher.py:1: MatplotlibDeprecationWarning: \n",
      "The 'normed' kwarg was deprecated in Matplotlib 2.1 and will be removed in 3.1. Use 'density' instead.\n",
      "  \"\"\"Entry point for launching an IPython kernel.\n"
     ]
    },
    {
     "data": {
      "text/plain": [
       "array([0.13533528, 0.22313016, 0.36787944, 0.60653066, 1.        ])"
      ]
     },
     "execution_count": 25,
     "metadata": {},
     "output_type": "execute_result"
    },
    {
     "data": {
      "image/png": "[encoded data removed]",
      "text/plain": [
       "<Figure size 432x288 with 1 Axes>"
      ]
     },
     "metadata": {
      "needs_background": "light"
     },
     "output_type": "display_data"
    }
   ],
   "source": [
    "plt.hist(residuals, bins=100, normed=1, histtype='step',cumulative=True);\n",
    "plt.axis([-2,0,0,1])\n",
    "np.power(np.exp(1)*np.ones(5),np.linspace(-2,0,5))"
   ]
  },
  {
   "cell_type": "code",
   "execution_count": 26,
   "metadata": {},
   "outputs": [
    {
     "data": {
      "text/plain": [
       "<matplotlib.collections.PathCollection at 0x27ef712def0>"
      ]
     },
     "execution_count": 26,
     "metadata": {},
     "output_type": "execute_result"
    },
    {
     "data": {
      "image/png": "[encoded data removed]",
      "text/plain": [
       "<Figure size 432x288 with 1 Axes>"
      ]
     },
     "metadata": {
      "needs_background": "light"
     },
     "output_type": "display_data"
    }
   ],
   "source": [
    "plt.scatter(np.arange(7),model.coef_)"
   ]
  },
  {
   "cell_type": "code",
   "execution_count": 27,
   "metadata": {},
   "outputs": [
    {
     "data": {
      "text/html": [
       "<div>\n",
       "<style scoped>\n",
       "    .dataframe tbody tr th:only-of-type {\n",
       "        vertical-align: middle;\n",
       "    }\n",
       "\n",
       "    .dataframe tbody tr th {\n",
       "        vertical-align: top;\n",
       "    }\n",
       "\n",
       "    .dataframe thead th {\n",
       "        text-align: right;\n",
       "    }\n",
       "</style>\n",
       "<table border=\"1\" class=\"dataframe\">\n",
       "  <thead>\n",
       "    <tr style=\"text-align: right;\">\n",
       "      <th></th>\n",
       "      <th>production_budget</th>\n",
       "      <th>title_year</th>\n",
       "      <th>aspect_ratio</th>\n",
       "      <th>duration</th>\n",
       "      <th>cast_total_facebook_likes</th>\n",
       "      <th>budget</th>\n",
       "      <th>imdb_score</th>\n",
       "    </tr>\n",
       "  </thead>\n",
       "  <tbody>\n",
       "    <tr>\n",
       "      <th>production_budget</th>\n",
       "      <td>1.000000</td>\n",
       "      <td>0.207884</td>\n",
       "      <td>0.077459</td>\n",
       "      <td>0.276407</td>\n",
       "      <td>0.236820</td>\n",
       "      <td>0.185357</td>\n",
       "      <td>0.033154</td>\n",
       "    </tr>\n",
       "    <tr>\n",
       "      <th>title_year</th>\n",
       "      <td>0.207884</td>\n",
       "      <td>1.000000</td>\n",
       "      <td>0.130532</td>\n",
       "      <td>-0.137662</td>\n",
       "      <td>0.124693</td>\n",
       "      <td>0.048664</td>\n",
       "      <td>-0.178685</td>\n",
       "    </tr>\n",
       "    <tr>\n",
       "      <th>aspect_ratio</th>\n",
       "      <td>0.077459</td>\n",
       "      <td>0.130532</td>\n",
       "      <td>1.000000</td>\n",
       "      <td>-0.012645</td>\n",
       "      <td>0.020656</td>\n",
       "      <td>0.011340</td>\n",
       "      <td>0.037765</td>\n",
       "    </tr>\n",
       "    <tr>\n",
       "      <th>duration</th>\n",
       "      <td>0.276407</td>\n",
       "      <td>-0.137662</td>\n",
       "      <td>-0.012645</td>\n",
       "      <td>1.000000</td>\n",
       "      <td>0.121918</td>\n",
       "      <td>0.064252</td>\n",
       "      <td>0.315642</td>\n",
       "    </tr>\n",
       "    <tr>\n",
       "      <th>cast_total_facebook_likes</th>\n",
       "      <td>0.236820</td>\n",
       "      <td>0.124693</td>\n",
       "      <td>0.020656</td>\n",
       "      <td>0.121918</td>\n",
       "      <td>1.000000</td>\n",
       "      <td>0.032591</td>\n",
       "      <td>0.096663</td>\n",
       "    </tr>\n",
       "    <tr>\n",
       "      <th>budget</th>\n",
       "      <td>0.185357</td>\n",
       "      <td>0.048664</td>\n",
       "      <td>0.011340</td>\n",
       "      <td>0.064252</td>\n",
       "      <td>0.032591</td>\n",
       "      <td>1.000000</td>\n",
       "      <td>0.019417</td>\n",
       "    </tr>\n",
       "    <tr>\n",
       "      <th>imdb_score</th>\n",
       "      <td>0.033154</td>\n",
       "      <td>-0.178685</td>\n",
       "      <td>0.037765</td>\n",
       "      <td>0.315642</td>\n",
       "      <td>0.096663</td>\n",
       "      <td>0.019417</td>\n",
       "      <td>1.000000</td>\n",
       "    </tr>\n",
       "  </tbody>\n",
       "</table>\n",
       "</div>"
      ],
      "text/plain": [
       "                           production_budget  title_year  aspect_ratio  \\\n",
       "production_budget                   1.000000    0.207884      0.077459   \n",
       "title_year                          0.207884    1.000000      0.130532   \n",
       "aspect_ratio                        0.077459    0.130532      1.000000   \n",
       "duration                            0.276407   -0.137662     -0.012645   \n",
       "cast_total_facebook_likes           0.236820    0.124693      0.020656   \n",
       "budget                              0.185357    0.048664      0.011340   \n",
       "imdb_score                          0.033154   -0.178685      0.037765   \n",
       "\n",
       "                           duration  cast_total_facebook_likes    budget  \\\n",
       "production_budget          0.276407                   0.236820  0.185357   \n",
       "title_year                -0.137662                   0.124693  0.048664   \n",
       "aspect_ratio              -0.012645                   0.020656  0.011340   \n",
       "duration                   1.000000                   0.121918  0.064252   \n",
       "cast_total_facebook_likes  0.121918                   1.000000  0.032591   \n",
       "budget                     0.064252                   0.032591  1.000000   \n",
       "imdb_score                 0.315642                   0.096663  0.019417   \n",
       "\n",
       "                           imdb_score  \n",
       "production_budget            0.033154  \n",
       "title_year                  -0.178685  \n",
       "aspect_ratio                 0.037765  \n",
       "duration                     0.315642  \n",
       "cast_total_facebook_likes    0.096663  \n",
       "budget                       0.019417  \n",
       "imdb_score                   1.000000  "
      ]
     },
     "execution_count": 27,
     "metadata": {},
     "output_type": "execute_result"
    }
   ],
   "source": [
    "# Calcula la matriz de correlacion\n",
    "x.corr()"
   ]
  },
  {
   "cell_type": "code",
   "execution_count": 28,
   "metadata": {},
   "outputs": [
    {
     "data": {
      "text/plain": [
       "<matplotlib.axes._subplots.AxesSubplot at 0x27ef7172390>"
      ]
     },
     "execution_count": 28,
     "metadata": {},
     "output_type": "execute_result"
    },
    {
     "data": {
      "image/png": "[encoded data removed]",
      "text/plain": [
       "<Figure size 432x288 with 2 Axes>"
      ]
     },
     "metadata": {
      "needs_background": "light"
     },
     "output_type": "display_data"
    }
   ],
   "source": [
    "sb.heatmap(x.corr())"
   ]
  }
 ],
 "metadata": {
  "kernelspec": {
   "display_name": "Python 3",
   "language": "python",
   "name": "python3"
  },
  "language_info": {
   "codemirror_mode": {
    "name": "ipython",
    "version": 3
   },
   "file_extension": ".py",
   "mimetype": "text/x-python",
   "name": "python",
   "nbconvert_exporter": "python",
   "pygments_lexer": "ipython3",
   "version": "3.7.3"
  }
 },
 "nbformat": 4,
 "nbformat_minor": 2
}
