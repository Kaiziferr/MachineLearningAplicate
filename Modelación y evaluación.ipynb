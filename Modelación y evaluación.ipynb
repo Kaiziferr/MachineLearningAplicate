{
 "cells": [
  {
   "cell_type": "code",
   "execution_count": 47,
   "metadata": {},
   "outputs": [],
   "source": [
    "import pandas as pd\n",
    "import numpy as np\n",
    "import seaborn as sb\n",
    "import matplotlib.pyplot as plt\n",
    "from sklearn.model_selection import train_test_split\n",
    "from sklearn.linear_model import Lasso"
   ]
  },
  {
   "cell_type": "markdown",
   "metadata": {},
   "source": [
    "# Modelación y evaluación"
   ]
  },
  {
   "cell_type": "code",
   "execution_count": 48,
   "metadata": {},
   "outputs": [
    {
     "data": {
      "text/html": [
       "<div>\n",
       "<style scoped>\n",
       "    .dataframe tbody tr th:only-of-type {\n",
       "        vertical-align: middle;\n",
       "    }\n",
       "\n",
       "    .dataframe tbody tr th {\n",
       "        vertical-align: top;\n",
       "    }\n",
       "\n",
       "    .dataframe thead th {\n",
       "        text-align: right;\n",
       "    }\n",
       "</style>\n",
       "<table border=\"1\" class=\"dataframe\">\n",
       "  <thead>\n",
       "    <tr style=\"text-align: right;\">\n",
       "      <th></th>\n",
       "      <th>production_budget</th>\n",
       "      <th>worldwide_gross</th>\n",
       "      <th>title_year</th>\n",
       "      <th>aspect_ratio</th>\n",
       "      <th>duration</th>\n",
       "      <th>cast_total_facebook_likes</th>\n",
       "      <th>budget</th>\n",
       "      <th>imdb_score</th>\n",
       "    </tr>\n",
       "  </thead>\n",
       "  <tbody>\n",
       "    <tr>\n",
       "      <th>0</th>\n",
       "      <td>425000000.0</td>\n",
       "      <td>2.783919e+09</td>\n",
       "      <td>2009.000000</td>\n",
       "      <td>1.780000</td>\n",
       "      <td>178.000000</td>\n",
       "      <td>4834.0</td>\n",
       "      <td>2.370000e+08</td>\n",
       "      <td>7.9</td>\n",
       "    </tr>\n",
       "    <tr>\n",
       "      <th>1</th>\n",
       "      <td>306000000.0</td>\n",
       "      <td>2.058662e+09</td>\n",
       "      <td>2002.130733</td>\n",
       "      <td>2.126976</td>\n",
       "      <td>108.577186</td>\n",
       "      <td>143.0</td>\n",
       "      <td>4.045539e+07</td>\n",
       "      <td>7.1</td>\n",
       "    </tr>\n",
       "    <tr>\n",
       "      <th>2</th>\n",
       "      <td>300000000.0</td>\n",
       "      <td>9.634204e+08</td>\n",
       "      <td>2007.000000</td>\n",
       "      <td>2.350000</td>\n",
       "      <td>169.000000</td>\n",
       "      <td>48350.0</td>\n",
       "      <td>3.000000e+08</td>\n",
       "      <td>7.1</td>\n",
       "    </tr>\n",
       "    <tr>\n",
       "      <th>3</th>\n",
       "      <td>300000000.0</td>\n",
       "      <td>8.796209e+08</td>\n",
       "      <td>2015.000000</td>\n",
       "      <td>2.350000</td>\n",
       "      <td>148.000000</td>\n",
       "      <td>11700.0</td>\n",
       "      <td>2.450000e+08</td>\n",
       "      <td>6.8</td>\n",
       "    </tr>\n",
       "    <tr>\n",
       "      <th>4</th>\n",
       "      <td>275000000.0</td>\n",
       "      <td>1.084439e+09</td>\n",
       "      <td>2012.000000</td>\n",
       "      <td>2.350000</td>\n",
       "      <td>164.000000</td>\n",
       "      <td>106759.0</td>\n",
       "      <td>2.500000e+08</td>\n",
       "      <td>8.5</td>\n",
       "    </tr>\n",
       "  </tbody>\n",
       "</table>\n",
       "</div>"
      ],
      "text/plain": [
       "   production_budget  worldwide_gross   title_year  aspect_ratio    duration  \\\n",
       "0        425000000.0     2.783919e+09  2009.000000      1.780000  178.000000   \n",
       "1        306000000.0     2.058662e+09  2002.130733      2.126976  108.577186   \n",
       "2        300000000.0     9.634204e+08  2007.000000      2.350000  169.000000   \n",
       "3        300000000.0     8.796209e+08  2015.000000      2.350000  148.000000   \n",
       "4        275000000.0     1.084439e+09  2012.000000      2.350000  164.000000   \n",
       "\n",
       "   cast_total_facebook_likes        budget  imdb_score  \n",
       "0                     4834.0  2.370000e+08         7.9  \n",
       "1                      143.0  4.045539e+07         7.1  \n",
       "2                    48350.0  3.000000e+08         7.1  \n",
       "3                    11700.0  2.450000e+08         6.8  \n",
       "4                   106759.0  2.500000e+08         8.5  "
      ]
     },
     "execution_count": 48,
     "metadata": {},
     "output_type": "execute_result"
    }
   ],
   "source": [
    "#Leemos nuestros datos de entrenamiento\n",
    "x = pd.read_csv('dataEntreno.csv')\n",
    "x.head()"
   ]
  },
  {
   "cell_type": "code",
   "execution_count": 49,
   "metadata": {},
   "outputs": [
    {
     "data": {
      "text/plain": [
       "0       2.783919e+09\n",
       "1       2.058662e+09\n",
       "2       9.634204e+08\n",
       "3       8.796209e+08\n",
       "4       1.084439e+09\n",
       "5       2.600021e+08\n",
       "6       2.827781e+08\n",
       "7       5.865819e+08\n",
       "8       8.908753e+08\n",
       "9       8.908753e+08\n",
       "10      1.404706e+09\n",
       "11      1.150865e+09\n",
       "12      8.681602e+08\n",
       "13      1.017004e+09\n",
       "14      9.350837e+08\n",
       "15      9.603669e+08\n",
       "16      9.551198e+08\n",
       "17      1.045664e+09\n",
       "18      3.740851e+08\n",
       "19      5.916921e+08\n",
       "20      1.066216e+09\n",
       "21      6.679995e+08\n",
       "22      4.173413e+08\n",
       "23      7.578903e+08\n",
       "24      1.670328e+09\n",
       "25      8.365197e+08\n",
       "26      1.104039e+09\n",
       "27      4.593596e+08\n",
       "28      3.222416e+08\n",
       "29      3.052182e+08\n",
       "            ...     \n",
       "4074    2.335352e+06\n",
       "4075    4.241490e+05\n",
       "4076    4.062990e+05\n",
       "4077    8.374000e+03\n",
       "4078    3.427220e+05\n",
       "4079    2.772330e+05\n",
       "4080    2.557200e+04\n",
       "4081    3.632000e+03\n",
       "4082    3.219520e+05\n",
       "4083    2.437680e+05\n",
       "4084    1.035090e+05\n",
       "4085    8.269800e+04\n",
       "4086    9.812000e+03\n",
       "4087    3.894240e+06\n",
       "4088    8.231000e+03\n",
       "4089    2.883661e+06\n",
       "4090    1.227508e+06\n",
       "4091    1.952540e+05\n",
       "4092    1.155920e+05\n",
       "4093    4.138020e+05\n",
       "4094    1.387110e+05\n",
       "4095    1.987000e+03\n",
       "4096    5.270000e+02\n",
       "4097    4.584000e+03\n",
       "4098    2.041928e+06\n",
       "4099    8.419260e+05\n",
       "4100    7.164400e+04\n",
       "4101    9.000000e+02\n",
       "4102    1.044300e+04\n",
       "4103    1.810410e+05\n",
       "Name: worldwide_gross, Length: 4104, dtype: float64"
      ]
     },
     "execution_count": 49,
     "metadata": {},
     "output_type": "execute_result"
    }
   ],
   "source": [
    "# Creamos nuestro target\n",
    "y = x['worldwide_gross']\n",
    "y"
   ]
  },
  {
   "cell_type": "code",
   "execution_count": 50,
   "metadata": {},
   "outputs": [],
   "source": [
    "x = x.drop('worldwide_gross',axis=1)"
   ]
  },
  {
   "cell_type": "code",
   "execution_count": 51,
   "metadata": {},
   "outputs": [
    {
     "data": {
      "text/html": [
       "<div>\n",
       "<style scoped>\n",
       "    .dataframe tbody tr th:only-of-type {\n",
       "        vertical-align: middle;\n",
       "    }\n",
       "\n",
       "    .dataframe tbody tr th {\n",
       "        vertical-align: top;\n",
       "    }\n",
       "\n",
       "    .dataframe thead th {\n",
       "        text-align: right;\n",
       "    }\n",
       "</style>\n",
       "<table border=\"1\" class=\"dataframe\">\n",
       "  <thead>\n",
       "    <tr style=\"text-align: right;\">\n",
       "      <th></th>\n",
       "      <th>production_budget</th>\n",
       "      <th>title_year</th>\n",
       "      <th>aspect_ratio</th>\n",
       "      <th>duration</th>\n",
       "      <th>cast_total_facebook_likes</th>\n",
       "      <th>budget</th>\n",
       "      <th>imdb_score</th>\n",
       "    </tr>\n",
       "  </thead>\n",
       "  <tbody>\n",
       "    <tr>\n",
       "      <th>0</th>\n",
       "      <td>425000000.0</td>\n",
       "      <td>2009.000000</td>\n",
       "      <td>1.780000</td>\n",
       "      <td>178.000000</td>\n",
       "      <td>4834.0</td>\n",
       "      <td>2.370000e+08</td>\n",
       "      <td>7.9</td>\n",
       "    </tr>\n",
       "    <tr>\n",
       "      <th>1</th>\n",
       "      <td>306000000.0</td>\n",
       "      <td>2002.130733</td>\n",
       "      <td>2.126976</td>\n",
       "      <td>108.577186</td>\n",
       "      <td>143.0</td>\n",
       "      <td>4.045539e+07</td>\n",
       "      <td>7.1</td>\n",
       "    </tr>\n",
       "    <tr>\n",
       "      <th>2</th>\n",
       "      <td>300000000.0</td>\n",
       "      <td>2007.000000</td>\n",
       "      <td>2.350000</td>\n",
       "      <td>169.000000</td>\n",
       "      <td>48350.0</td>\n",
       "      <td>3.000000e+08</td>\n",
       "      <td>7.1</td>\n",
       "    </tr>\n",
       "    <tr>\n",
       "      <th>3</th>\n",
       "      <td>300000000.0</td>\n",
       "      <td>2015.000000</td>\n",
       "      <td>2.350000</td>\n",
       "      <td>148.000000</td>\n",
       "      <td>11700.0</td>\n",
       "      <td>2.450000e+08</td>\n",
       "      <td>6.8</td>\n",
       "    </tr>\n",
       "    <tr>\n",
       "      <th>4</th>\n",
       "      <td>275000000.0</td>\n",
       "      <td>2012.000000</td>\n",
       "      <td>2.350000</td>\n",
       "      <td>164.000000</td>\n",
       "      <td>106759.0</td>\n",
       "      <td>2.500000e+08</td>\n",
       "      <td>8.5</td>\n",
       "    </tr>\n",
       "  </tbody>\n",
       "</table>\n",
       "</div>"
      ],
      "text/plain": [
       "   production_budget   title_year  aspect_ratio    duration  \\\n",
       "0        425000000.0  2009.000000      1.780000  178.000000   \n",
       "1        306000000.0  2002.130733      2.126976  108.577186   \n",
       "2        300000000.0  2007.000000      2.350000  169.000000   \n",
       "3        300000000.0  2015.000000      2.350000  148.000000   \n",
       "4        275000000.0  2012.000000      2.350000  164.000000   \n",
       "\n",
       "   cast_total_facebook_likes        budget  imdb_score  \n",
       "0                     4834.0  2.370000e+08         7.9  \n",
       "1                      143.0  4.045539e+07         7.1  \n",
       "2                    48350.0  3.000000e+08         7.1  \n",
       "3                    11700.0  2.450000e+08         6.8  \n",
       "4                   106759.0  2.500000e+08         8.5  "
      ]
     },
     "execution_count": 51,
     "metadata": {},
     "output_type": "execute_result"
    }
   ],
   "source": [
    "x.head()"
   ]
  },
  {
   "cell_type": "markdown",
   "metadata": {},
   "source": [
    "#### Modelo simple de regresión (lasso)\n"
   ]
  },
  {
   "cell_type": "code",
   "execution_count": 52,
   "metadata": {},
   "outputs": [],
   "source": [
    "#Definimos nuestras variables de entrenamiento y de pruebas\n",
    "x_train, x_test, y_train, y_test = train_test_split(x,y)"
   ]
  },
  {
   "cell_type": "code",
   "execution_count": 53,
   "metadata": {},
   "outputs": [
    {
     "name": "stdout",
     "output_type": "stream",
     "text": [
      "4104\n",
      "3078\n",
      "1026\n"
     ]
    }
   ],
   "source": [
    "print(len(x))\n",
    "print(len(x_train))\n",
    "print(len(x_test))"
   ]
  },
  {
   "cell_type": "code",
   "execution_count": 54,
   "metadata": {},
   "outputs": [
    {
     "data": {
      "text/html": [
       "<div>\n",
       "<style scoped>\n",
       "    .dataframe tbody tr th:only-of-type {\n",
       "        vertical-align: middle;\n",
       "    }\n",
       "\n",
       "    .dataframe tbody tr th {\n",
       "        vertical-align: top;\n",
       "    }\n",
       "\n",
       "    .dataframe thead th {\n",
       "        text-align: right;\n",
       "    }\n",
       "</style>\n",
       "<table border=\"1\" class=\"dataframe\">\n",
       "  <thead>\n",
       "    <tr style=\"text-align: right;\">\n",
       "      <th></th>\n",
       "      <th>production_budget</th>\n",
       "      <th>title_year</th>\n",
       "      <th>aspect_ratio</th>\n",
       "      <th>duration</th>\n",
       "      <th>cast_total_facebook_likes</th>\n",
       "      <th>budget</th>\n",
       "      <th>imdb_score</th>\n",
       "    </tr>\n",
       "  </thead>\n",
       "  <tbody>\n",
       "    <tr>\n",
       "      <th>0</th>\n",
       "      <td>425000000.0</td>\n",
       "      <td>2009.000000</td>\n",
       "      <td>1.780000</td>\n",
       "      <td>178.000000</td>\n",
       "      <td>4834.0</td>\n",
       "      <td>2.370000e+08</td>\n",
       "      <td>7.9</td>\n",
       "    </tr>\n",
       "    <tr>\n",
       "      <th>1</th>\n",
       "      <td>306000000.0</td>\n",
       "      <td>2002.130733</td>\n",
       "      <td>2.126976</td>\n",
       "      <td>108.577186</td>\n",
       "      <td>143.0</td>\n",
       "      <td>4.045539e+07</td>\n",
       "      <td>7.1</td>\n",
       "    </tr>\n",
       "  </tbody>\n",
       "</table>\n",
       "</div>"
      ],
      "text/plain": [
       "   production_budget   title_year  aspect_ratio    duration  \\\n",
       "0        425000000.0  2009.000000      1.780000  178.000000   \n",
       "1        306000000.0  2002.130733      2.126976  108.577186   \n",
       "\n",
       "   cast_total_facebook_likes        budget  imdb_score  \n",
       "0                     4834.0  2.370000e+08         7.9  \n",
       "1                      143.0  4.045539e+07         7.1  "
      ]
     },
     "execution_count": 54,
     "metadata": {},
     "output_type": "execute_result"
    }
   ],
   "source": [
    "x.head(2)"
   ]
  },
  {
   "cell_type": "code",
   "execution_count": 55,
   "metadata": {},
   "outputs": [],
   "source": [
    "model = Lasso()"
   ]
  },
  {
   "cell_type": "code",
   "execution_count": 56,
   "metadata": {},
   "outputs": [
    {
     "data": {
      "text/plain": [
       "Lasso(alpha=1.0, copy_X=True, fit_intercept=True, max_iter=1000,\n",
       "      normalize=False, positive=False, precompute=False, random_state=None,\n",
       "      selection='cyclic', tol=0.0001, warm_start=False)"
      ]
     },
     "execution_count": 56,
     "metadata": {},
     "output_type": "execute_result"
    }
   ],
   "source": [
    "#Iniciamos el entreno de nuestro modelo\n",
    "model.fit(x_train,y_train)"
   ]
  },
  {
   "cell_type": "code",
   "execution_count": 57,
   "metadata": {},
   "outputs": [
    {
     "data": {
      "text/plain": [
       "(1026,)"
      ]
     },
     "execution_count": 57,
     "metadata": {},
     "output_type": "execute_result"
    }
   ],
   "source": [
    "#Predecimos con nuestros datos de prueba\n",
    "predicted = model.predict(x_test)\n",
    "predicted.shape"
   ]
  },
  {
   "cell_type": "code",
   "execution_count": 58,
   "metadata": {},
   "outputs": [],
   "source": [
    "# Graficar en Jupyter\n",
    "%matplotlib inline"
   ]
  },
  {
   "cell_type": "code",
   "execution_count": 59,
   "metadata": {},
   "outputs": [
    {
     "data": {
      "image/png": "[encoded data removed]",
      "text/plain": [
       "<Figure size 432x288 with 1 Axes>"
      ]
     },
     "metadata": {
      "needs_background": "light"
     },
     "output_type": "display_data"
    }
   ],
   "source": [
    "plt.hist([predicted,y_test]);"
   ]
  },
  {
   "cell_type": "markdown",
   "metadata": {},
   "source": [
    "#### Evaluación del comportamiento de nuestro modelo"
   ]
  },
  {
   "cell_type": "code",
   "execution_count": 60,
   "metadata": {},
   "outputs": [
    {
     "data": {
      "text/plain": [
       "0.5847766801644849"
      ]
     },
     "execution_count": 60,
     "metadata": {},
     "output_type": "execute_result"
    }
   ],
   "source": [
    "#Miramos el score\n",
    "model.score(x_test,y_test)"
   ]
  },
  {
   "cell_type": "markdown",
   "metadata": {},
   "source": [
    "Un buen score R2 es importante para una regresión. Pero no lo es todo. De forma general los scores hay que complementarlos con visualizaciones de los datos ya que una métrica no logra siempre encodear todas las caracteristicas de una distribución de probabilidades."
   ]
  },
  {
   "cell_type": "code",
   "execution_count": 61,
   "metadata": {},
   "outputs": [],
   "source": [
    "#Miramos los residuos\n",
    "residuals = y_test - predicted"
   ]
  },
  {
   "cell_type": "code",
   "execution_count": 62,
   "metadata": {},
   "outputs": [
    {
     "data": {
      "text/plain": [
       "<matplotlib.collections.PathCollection at 0x29aaabb8cc0>"
      ]
     },
     "execution_count": 62,
     "metadata": {},
     "output_type": "execute_result"
    },
    {
     "data": {
      "image/png": "[encoded data removed]",
      "text/plain": [
       "<Figure size 432x288 with 1 Axes>"
      ]
     },
     "metadata": {
      "needs_background": "light"
     },
     "output_type": "display_data"
    }
   ],
   "source": [
    "plt.scatter(y_test,residuals)"
   ]
  },
  {
   "cell_type": "code",
   "execution_count": 63,
   "metadata": {},
   "outputs": [],
   "source": [
    "# Errores en porcentaje\n",
    "ap_residuals = np.abs(residuals) / y_test"
   ]
  },
  {
   "cell_type": "code",
   "execution_count": 64,
   "metadata": {
    "scrolled": true
   },
   "outputs": [
    {
     "data": {
      "text/plain": [
       "<matplotlib.collections.PathCollection at 0x29aabeffc50>"
      ]
     },
     "execution_count": 64,
     "metadata": {},
     "output_type": "execute_result"
    },
    {
     "data": {
      "image/png": "[encoded data removed]",
      "text/plain": [
       "<Figure size 432x288 with 1 Axes>"
      ]
     },
     "metadata": {
      "needs_background": "light"
     },
     "output_type": "display_data"
    }
   ],
   "source": [
    "plt.scatter(y_test,ap_residuals)"
   ]
  },
  {
   "cell_type": "code",
   "execution_count": 65,
   "metadata": {},
   "outputs": [],
   "source": [
    "#Como hay residuos muy alejados usare una escala logaritmica\n",
    "ap_residuals =np.log(ap_residuals)"
   ]
  },
  {
   "cell_type": "code",
   "execution_count": 66,
   "metadata": {},
   "outputs": [
    {
     "data": {
      "text/plain": [
       "<matplotlib.collections.PathCollection at 0x29aabf229b0>"
      ]
     },
     "execution_count": 66,
     "metadata": {},
     "output_type": "execute_result"
    },
    {
     "data": {
      "image/png": "[encoded data removed]",
      "text/plain": [
       "<Figure size 432x288 with 1 Axes>"
      ]
     },
     "metadata": {
      "needs_background": "light"
     },
     "output_type": "display_data"
    }
   ],
   "source": [
    "plt.scatter(y_test,ap_residuals)"
   ]
  },
  {
   "cell_type": "code",
   "execution_count": 67,
   "metadata": {},
   "outputs": [
    {
     "name": "stderr",
     "output_type": "stream",
     "text": [
      "C:\\ProgramData\\Anaconda3\\lib\\site-packages\\ipykernel_launcher.py:3: MatplotlibDeprecationWarning: \n",
      "The 'normed' kwarg was deprecated in Matplotlib 2.1 and will be removed in 3.1. Use 'density' instead.\n",
      "  This is separate from the ipykernel package so we can avoid doing imports until\n"
     ]
    },
    {
     "data": {
      "text/plain": [
       "(array([9.74658869e-04, 9.74658869e-04, 1.94931774e-03, 2.92397661e-03,\n",
       "        2.92397661e-03, 2.92397661e-03, 4.87329435e-03, 4.87329435e-03,\n",
       "        4.87329435e-03, 4.87329435e-03, 5.84795322e-03, 5.84795322e-03,\n",
       "        7.79727096e-03, 9.74658869e-03, 9.74658869e-03, 1.16959064e-02,\n",
       "        1.36452242e-02, 1.75438596e-02, 2.33918129e-02, 2.53411306e-02,\n",
       "        2.82651072e-02, 3.21637427e-02, 3.70370370e-02, 4.19103314e-02,\n",
       "        5.06822612e-02, 6.23781676e-02, 7.01754386e-02, 8.86939571e-02,\n",
       "        9.74658869e-02, 1.11111111e-01, 1.34502924e-01, 1.57894737e-01,\n",
       "        1.89083821e-01, 2.31968811e-01, 2.73879142e-01, 3.31384016e-01,\n",
       "        3.81091618e-01, 4.35672515e-01, 4.82456140e-01, 5.13645224e-01,\n",
       "        5.50682261e-01, 5.85769981e-01, 6.21832359e-01, 6.51072125e-01,\n",
       "        6.86159844e-01, 7.17348928e-01, 7.35867446e-01, 7.64132554e-01,\n",
       "        7.83625731e-01, 8.01169591e-01, 8.20662768e-01, 8.33333333e-01,\n",
       "        8.43079922e-01, 8.58674464e-01, 8.70370370e-01, 8.89863548e-01,\n",
       "        9.00584795e-01, 9.06432749e-01, 9.14230019e-01, 9.21052632e-01,\n",
       "        9.23976608e-01, 9.32748538e-01, 9.37621832e-01, 9.43469786e-01,\n",
       "        9.46393762e-01, 9.52241715e-01, 9.54191033e-01, 9.59064327e-01,\n",
       "        9.63937622e-01, 9.67836257e-01, 9.69785575e-01, 9.69785575e-01,\n",
       "        9.71734893e-01, 9.73684211e-01, 9.75633528e-01, 9.77582846e-01,\n",
       "        9.82456140e-01, 9.83430799e-01, 9.85380117e-01, 9.86354776e-01,\n",
       "        9.86354776e-01, 9.89278752e-01, 9.92202729e-01, 9.93177388e-01,\n",
       "        9.93177388e-01, 9.93177388e-01, 9.93177388e-01, 9.93177388e-01,\n",
       "        9.93177388e-01, 9.93177388e-01, 9.96101365e-01, 9.96101365e-01,\n",
       "        9.96101365e-01, 9.96101365e-01, 9.97076023e-01, 9.98050682e-01,\n",
       "        9.99025341e-01, 9.99025341e-01, 9.99025341e-01, 1.00000000e+00]),\n",
       " array([-7.45260131, -7.26395555, -7.07530978, -6.88666401, -6.69801824,\n",
       "        -6.50937247, -6.32072671, -6.13208094, -5.94343517, -5.7547894 ,\n",
       "        -5.56614363, -5.37749787, -5.1888521 , -5.00020633, -4.81156056,\n",
       "        -4.62291479, -4.43426903, -4.24562326, -4.05697749, -3.86833172,\n",
       "        -3.67968595, -3.49104018, -3.30239442, -3.11374865, -2.92510288,\n",
       "        -2.73645711, -2.54781134, -2.35916558, -2.17051981, -1.98187404,\n",
       "        -1.79322827, -1.6045825 , -1.41593674, -1.22729097, -1.0386452 ,\n",
       "        -0.84999943, -0.66135366, -0.4727079 , -0.28406213, -0.09541636,\n",
       "         0.09322941,  0.28187518,  0.47052095,  0.65916671,  0.84781248,\n",
       "         1.03645825,  1.22510402,  1.41374979,  1.60239555,  1.79104132,\n",
       "         1.97968709,  2.16833286,  2.35697863,  2.54562439,  2.73427016,\n",
       "         2.92291593,  3.1115617 ,  3.30020747,  3.48885323,  3.677499  ,\n",
       "         3.86614477,  4.05479054,  4.24343631,  4.43208208,  4.62072784,\n",
       "         4.80937361,  4.99801938,  5.18666515,  5.37531092,  5.56395668,\n",
       "         5.75260245,  5.94124822,  6.12989399,  6.31853976,  6.50718552,\n",
       "         6.69583129,  6.88447706,  7.07312283,  7.2617686 ,  7.45041436,\n",
       "         7.63906013,  7.8277059 ,  8.01635167,  8.20499744,  8.39364321,\n",
       "         8.58228897,  8.77093474,  8.95958051,  9.14822628,  9.33687205,\n",
       "         9.52551781,  9.71416358,  9.90280935, 10.09145512, 10.28010089,\n",
       "        10.46874665, 10.65739242, 10.84603819, 11.03468396, 11.22332973,\n",
       "        11.41197549]),\n",
       " <a list of 1 Patch objects>)"
      ]
     },
     "execution_count": 67,
     "metadata": {},
     "output_type": "execute_result"
    },
    {
     "data": {
      "image/png": "[encoded data removed]",
      "text/plain": [
       "<Figure size 432x288 with 1 Axes>"
      ]
     },
     "metadata": {
      "needs_background": "light"
     },
     "output_type": "display_data"
    }
   ],
   "source": [
    "# Hacemos una evaluacion de errores Diagrama de escala acumulativa de distribucion de errores\n",
    "# haremos un histograma, normalizado\n",
    "plt.hist(ap_residuals,bins=100,normed=1,histtype='step', cumulative=True)\n",
    "# para un 45% de nuestros datos hay 5% de error"
   ]
  },
  {
   "cell_type": "code",
   "execution_count": 68,
   "metadata": {},
   "outputs": [
    {
     "name": "stderr",
     "output_type": "stream",
     "text": [
      "C:\\ProgramData\\Anaconda3\\lib\\site-packages\\ipykernel_launcher.py:1: MatplotlibDeprecationWarning: \n",
      "The 'normed' kwarg was deprecated in Matplotlib 2.1 and will be removed in 3.1. Use 'density' instead.\n",
      "  \"\"\"Entry point for launching an IPython kernel.\n"
     ]
    },
    {
     "data": {
      "text/plain": [
       "array([0.13533528, 0.22313016, 0.36787944, 0.60653066, 1.        ])"
      ]
     },
     "execution_count": 68,
     "metadata": {},
     "output_type": "execute_result"
    },
    {
     "data": {
      "image/png": "[encoded data removed]",
      "text/plain": [
       "<Figure size 432x288 with 1 Axes>"
      ]
     },
     "metadata": {
      "needs_background": "light"
     },
     "output_type": "display_data"
    }
   ],
   "source": [
    "plt.hist(ap_residuals, bins=100, normed=1, histtype='step',cumulative=True);\n",
    "plt.axis([-2,0,0,1])\n",
    "np.power(np.exp(1)*np.ones(5),np.linspace(-2,0,5))"
   ]
  },
  {
   "cell_type": "code",
   "execution_count": 70,
   "metadata": {},
   "outputs": [
    {
     "data": {
      "text/plain": [
       "<matplotlib.collections.PathCollection at 0x29aac1aa780>"
      ]
     },
     "execution_count": 70,
     "metadata": {},
     "output_type": "execute_result"
    },
    {
     "data": {
      "image/png": "[encoded data removed]",
      "text/plain": [
       "<Figure size 432x288 with 1 Axes>"
      ]
     },
     "metadata": {
      "needs_background": "light"
     },
     "output_type": "display_data"
    }
   ],
   "source": [
    "plt.scatter(np.arange(7),model.coef_)"
   ]
  },
  {
   "cell_type": "code",
   "execution_count": 71,
   "metadata": {},
   "outputs": [
    {
     "data": {
      "text/html": [
       "<div>\n",
       "<style scoped>\n",
       "    .dataframe tbody tr th:only-of-type {\n",
       "        vertical-align: middle;\n",
       "    }\n",
       "\n",
       "    .dataframe tbody tr th {\n",
       "        vertical-align: top;\n",
       "    }\n",
       "\n",
       "    .dataframe thead th {\n",
       "        text-align: right;\n",
       "    }\n",
       "</style>\n",
       "<table border=\"1\" class=\"dataframe\">\n",
       "  <thead>\n",
       "    <tr style=\"text-align: right;\">\n",
       "      <th></th>\n",
       "      <th>production_budget</th>\n",
       "      <th>title_year</th>\n",
       "      <th>aspect_ratio</th>\n",
       "      <th>duration</th>\n",
       "      <th>cast_total_facebook_likes</th>\n",
       "      <th>budget</th>\n",
       "      <th>imdb_score</th>\n",
       "    </tr>\n",
       "  </thead>\n",
       "  <tbody>\n",
       "    <tr>\n",
       "      <th>production_budget</th>\n",
       "      <td>1.000000</td>\n",
       "      <td>0.207884</td>\n",
       "      <td>0.077459</td>\n",
       "      <td>0.276407</td>\n",
       "      <td>0.236820</td>\n",
       "      <td>0.185357</td>\n",
       "      <td>0.033154</td>\n",
       "    </tr>\n",
       "    <tr>\n",
       "      <th>title_year</th>\n",
       "      <td>0.207884</td>\n",
       "      <td>1.000000</td>\n",
       "      <td>0.130532</td>\n",
       "      <td>-0.137662</td>\n",
       "      <td>0.124693</td>\n",
       "      <td>0.048664</td>\n",
       "      <td>-0.178685</td>\n",
       "    </tr>\n",
       "    <tr>\n",
       "      <th>aspect_ratio</th>\n",
       "      <td>0.077459</td>\n",
       "      <td>0.130532</td>\n",
       "      <td>1.000000</td>\n",
       "      <td>-0.012645</td>\n",
       "      <td>0.020656</td>\n",
       "      <td>0.011340</td>\n",
       "      <td>0.037765</td>\n",
       "    </tr>\n",
       "    <tr>\n",
       "      <th>duration</th>\n",
       "      <td>0.276407</td>\n",
       "      <td>-0.137662</td>\n",
       "      <td>-0.012645</td>\n",
       "      <td>1.000000</td>\n",
       "      <td>0.121918</td>\n",
       "      <td>0.064252</td>\n",
       "      <td>0.315642</td>\n",
       "    </tr>\n",
       "    <tr>\n",
       "      <th>cast_total_facebook_likes</th>\n",
       "      <td>0.236820</td>\n",
       "      <td>0.124693</td>\n",
       "      <td>0.020656</td>\n",
       "      <td>0.121918</td>\n",
       "      <td>1.000000</td>\n",
       "      <td>0.032591</td>\n",
       "      <td>0.096663</td>\n",
       "    </tr>\n",
       "    <tr>\n",
       "      <th>budget</th>\n",
       "      <td>0.185357</td>\n",
       "      <td>0.048664</td>\n",
       "      <td>0.011340</td>\n",
       "      <td>0.064252</td>\n",
       "      <td>0.032591</td>\n",
       "      <td>1.000000</td>\n",
       "      <td>0.019417</td>\n",
       "    </tr>\n",
       "    <tr>\n",
       "      <th>imdb_score</th>\n",
       "      <td>0.033154</td>\n",
       "      <td>-0.178685</td>\n",
       "      <td>0.037765</td>\n",
       "      <td>0.315642</td>\n",
       "      <td>0.096663</td>\n",
       "      <td>0.019417</td>\n",
       "      <td>1.000000</td>\n",
       "    </tr>\n",
       "  </tbody>\n",
       "</table>\n",
       "</div>"
      ],
      "text/plain": [
       "                           production_budget  title_year  aspect_ratio  \\\n",
       "production_budget                   1.000000    0.207884      0.077459   \n",
       "title_year                          0.207884    1.000000      0.130532   \n",
       "aspect_ratio                        0.077459    0.130532      1.000000   \n",
       "duration                            0.276407   -0.137662     -0.012645   \n",
       "cast_total_facebook_likes           0.236820    0.124693      0.020656   \n",
       "budget                              0.185357    0.048664      0.011340   \n",
       "imdb_score                          0.033154   -0.178685      0.037765   \n",
       "\n",
       "                           duration  cast_total_facebook_likes    budget  \\\n",
       "production_budget          0.276407                   0.236820  0.185357   \n",
       "title_year                -0.137662                   0.124693  0.048664   \n",
       "aspect_ratio              -0.012645                   0.020656  0.011340   \n",
       "duration                   1.000000                   0.121918  0.064252   \n",
       "cast_total_facebook_likes  0.121918                   1.000000  0.032591   \n",
       "budget                     0.064252                   0.032591  1.000000   \n",
       "imdb_score                 0.315642                   0.096663  0.019417   \n",
       "\n",
       "                           imdb_score  \n",
       "production_budget            0.033154  \n",
       "title_year                  -0.178685  \n",
       "aspect_ratio                 0.037765  \n",
       "duration                     0.315642  \n",
       "cast_total_facebook_likes    0.096663  \n",
       "budget                       0.019417  \n",
       "imdb_score                   1.000000  "
      ]
     },
     "execution_count": 71,
     "metadata": {},
     "output_type": "execute_result"
    }
   ],
   "source": [
    "# Calcula la matriz de correlacion\n",
    "x.corr()"
   ]
  },
  {
   "cell_type": "code",
   "execution_count": 72,
   "metadata": {},
   "outputs": [
    {
     "data": {
      "text/plain": [
       "<matplotlib.axes._subplots.AxesSubplot at 0x29aac1ef668>"
      ]
     },
     "execution_count": 72,
     "metadata": {},
     "output_type": "execute_result"
    },
    {
     "data": {
      "image/png": "[encoded data removed]",
      "text/plain": [
       "<Figure size 432x288 with 2 Axes>"
      ]
     },
     "metadata": {
      "needs_background": "light"
     },
     "output_type": "display_data"
    }
   ],
   "source": [
    "sb.heatmap(x.corr())"
   ]
  }
 ],
 "metadata": {
  "kernelspec": {
   "display_name": "Python 3",
   "language": "python",
   "name": "python3"
  },
  "language_info": {
   "codemirror_mode": {
    "name": "ipython",
    "version": 3
   },
   "file_extension": ".py",
   "mimetype": "text/x-python",
   "name": "python",
   "nbconvert_exporter": "python",
   "pygments_lexer": "ipython3",
   "version": "3.7.3"
  }
 },
 "nbformat": 4,
 "nbformat_minor": 2
}
